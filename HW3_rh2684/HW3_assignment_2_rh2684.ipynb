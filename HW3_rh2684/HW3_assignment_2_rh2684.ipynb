{
 "cells": [
  {
   "cell_type": "markdown",
   "metadata": {},
   "source": [
    "# PUI Homework 3, assignment 2"
   ]
  },
  {
   "cell_type": "code",
   "execution_count": 1,
   "metadata": {
    "collapsed": false
   },
   "outputs": [
    {
     "name": "stdout",
     "output_type": "stream",
     "text": [
      "Populating the interactive namespace from numpy and matplotlib\n"
     ]
    }
   ],
   "source": [
    "__author__ = 'Ruben Hambardzumyan, based on the example created by prof. Federica Bianco'\n",
    "\n",
    "# Importing the libraries.\n",
    "\n",
    "from __future__  import print_function, division\n",
    "import statsmodels.formula.api as smf # To make equations beautiful\n",
    "import pylab as pl\n",
    "import pandas as pd\n",
    "import numpy as np\n",
    "import os\n",
    "\n",
    "%matplotlib inline\n",
    "%pylab inline\n",
    "\n",
    "# Checking the $PUIDATA environmental variable\n",
    "\n",
    "if not os.environ.get('PUIDATA'):\n",
    "    print('The $PUIDATA environmental variable does not exist!')\n",
    "\n",
    "alpha = 0.05 # Significance level"
   ]
  },
  {
   "cell_type": "markdown",
   "metadata": {},
   "source": [
    "# 1. The Idea and Null Hypothesis"
   ]
  },
  {
   "cell_type": "markdown",
   "metadata": {
    "collapsed": true
   },
   "source": [
    "### Idea: <i> Men are more likely to cycle long distances than women <i/>\n",
    "\n",
    "### Null Hypothesis: <i>The ratio of women continuously cycling more than 30 minutes over the women that cycle less than 30 minutes is the same or lower than the ratio of men continuously cycling more than 30 minutes over the men cycling less than 30 minutes.</i>"
   ]
  },
  {
   "cell_type": "markdown",
   "metadata": {},
   "source": [
    "$$\n",
    "    H_1: \\frac{M(T>30)}{M(T<30)}>\\frac{W(T>30)}{W(T<30)}\n",
    "$$\n",
    "\n",
    "$$\n",
    "    H_0: \\frac{W(T>30)}{W(T<30)}<=\\frac{M(T>30)}{M(T<30)}\n",
    "$$\n",
    "\n",
    "<b>Or</b>:\n",
    "\n",
    "$$\n",
    "    H_1: \\frac{M(T>30)}{M(T<30)}-\\frac{W(T>30)}{W(T<30)}>0\n",
    "$$\n",
    "\n",
    "$$\n",
    "    H_0: \\frac{W(T>30)}{W(T<30)}-\\frac{M(T>30)}{M(T<30)}<=0\n",
    "$$\n"
   ]
  },
  {
   "cell_type": "markdown",
   "metadata": {},
   "source": [
    "### The Data: The Citibike data for the month of October 2016 will be used."
   ]
  },
  {
   "cell_type": "markdown",
   "metadata": {},
   "source": [
    "# 2. Importing the data."
   ]
  },
  {
   "cell_type": "code",
   "execution_count": 2,
   "metadata": {
    "collapsed": true
   },
   "outputs": [],
   "source": [
    "def getCitibikeData(dsNum):\n",
    "    os.system(\"curl -O https://s3.amazonaws.com/tripdata/\" + dsNum + \"-citibike-tripdata.zip\")\n",
    "    print('downloading...')\n",
    "    os.system(\"mv \" + dsNum + \"-citibike-tripdata.zip \" + os.getenv(\"PUIDATA\"))\n",
    "    print('moved!')\n",
    "    os.system(\"unzip \" + os.getenv(\"PUIDATA\") + \"/\" + dsNum + \"-citibike-tripdata.zip\")\n",
    "    print('unzipped!')\n",
    "    os.system(\"mv \" + dsNum + \"-citibike-tripdata.csv \" + os.getenv(\"PUIDATA\")) \n",
    "    print('unzip moved!')"
   ]
  },
  {
   "cell_type": "code",
   "execution_count": 3,
   "metadata": {
    "collapsed": false
   },
   "outputs": [
    {
     "name": "stdout",
     "output_type": "stream",
     "text": [
      "downloading...\n",
      "moved!\n",
      "unzipped!\n",
      "unzip moved!\n"
     ]
    }
   ],
   "source": [
    "dsNum = '201610'\n",
    "getCitibikeData(dsNum)"
   ]
  },
  {
   "cell_type": "code",
   "execution_count": 4,
   "metadata": {
    "collapsed": true
   },
   "outputs": [],
   "source": [
    "ds = os.environ.get('PUIDATA') + '/' + dsNum + '-citibike-tripdata.csv'"
   ]
  },
  {
   "cell_type": "code",
   "execution_count": 5,
   "metadata": {
    "collapsed": false,
    "scrolled": true
   },
   "outputs": [],
   "source": [
    "data = pd.read_csv(ds)"
   ]
  },
  {
   "cell_type": "code",
   "execution_count": 8,
   "metadata": {
    "collapsed": false,
    "scrolled": false
   },
   "outputs": [
    {
     "data": {
      "text/html": [
       "<div>\n",
       "<table border=\"1\" class=\"dataframe\">\n",
       "  <thead>\n",
       "    <tr style=\"text-align: right;\">\n",
       "      <th></th>\n",
       "      <th>Trip Duration</th>\n",
       "      <th>Start Time</th>\n",
       "      <th>Stop Time</th>\n",
       "      <th>Start Station ID</th>\n",
       "      <th>Start Station Name</th>\n",
       "      <th>Start Station Latitude</th>\n",
       "      <th>Start Station Longitude</th>\n",
       "      <th>End Station ID</th>\n",
       "      <th>End Station Name</th>\n",
       "      <th>End Station Latitude</th>\n",
       "      <th>End Station Longitude</th>\n",
       "      <th>Bike ID</th>\n",
       "      <th>User Type</th>\n",
       "      <th>Birth Year</th>\n",
       "      <th>Gender</th>\n",
       "    </tr>\n",
       "  </thead>\n",
       "  <tbody>\n",
       "    <tr>\n",
       "      <th>0</th>\n",
       "      <td>328</td>\n",
       "      <td>2016-10-01 00:00:07</td>\n",
       "      <td>2016-10-01 00:05:35</td>\n",
       "      <td>471</td>\n",
       "      <td>Grand St &amp; Havemeyer St</td>\n",
       "      <td>40.712868</td>\n",
       "      <td>-73.956981</td>\n",
       "      <td>3077</td>\n",
       "      <td>Stagg St &amp; Union Ave</td>\n",
       "      <td>40.708771</td>\n",
       "      <td>-73.950953</td>\n",
       "      <td>25254</td>\n",
       "      <td>Subscriber</td>\n",
       "      <td>1992.0</td>\n",
       "      <td>1</td>\n",
       "    </tr>\n",
       "    <tr>\n",
       "      <th>1</th>\n",
       "      <td>398</td>\n",
       "      <td>2016-10-01 00:00:11</td>\n",
       "      <td>2016-10-01 00:06:49</td>\n",
       "      <td>3147</td>\n",
       "      <td>E 85 St &amp; 3 Ave</td>\n",
       "      <td>40.778012</td>\n",
       "      <td>-73.954071</td>\n",
       "      <td>3140</td>\n",
       "      <td>1 Ave &amp; E 78 St</td>\n",
       "      <td>40.771404</td>\n",
       "      <td>-73.953517</td>\n",
       "      <td>17810</td>\n",
       "      <td>Subscriber</td>\n",
       "      <td>1988.0</td>\n",
       "      <td>2</td>\n",
       "    </tr>\n",
       "    <tr>\n",
       "      <th>2</th>\n",
       "      <td>430</td>\n",
       "      <td>2016-10-01 00:00:14</td>\n",
       "      <td>2016-10-01 00:07:25</td>\n",
       "      <td>345</td>\n",
       "      <td>W 13 St &amp; 6 Ave</td>\n",
       "      <td>40.736494</td>\n",
       "      <td>-73.997044</td>\n",
       "      <td>470</td>\n",
       "      <td>W 20 St &amp; 8 Ave</td>\n",
       "      <td>40.743453</td>\n",
       "      <td>-74.000040</td>\n",
       "      <td>20940</td>\n",
       "      <td>Subscriber</td>\n",
       "      <td>1965.0</td>\n",
       "      <td>1</td>\n",
       "    </tr>\n",
       "    <tr>\n",
       "      <th>3</th>\n",
       "      <td>351</td>\n",
       "      <td>2016-10-01 00:00:21</td>\n",
       "      <td>2016-10-01 00:06:12</td>\n",
       "      <td>3307</td>\n",
       "      <td>West End Ave &amp; W 94 St</td>\n",
       "      <td>40.794165</td>\n",
       "      <td>-73.974124</td>\n",
       "      <td>3357</td>\n",
       "      <td>W 106 St &amp; Amsterdam Ave</td>\n",
       "      <td>40.800836</td>\n",
       "      <td>-73.966449</td>\n",
       "      <td>19086</td>\n",
       "      <td>Subscriber</td>\n",
       "      <td>1993.0</td>\n",
       "      <td>1</td>\n",
       "    </tr>\n",
       "    <tr>\n",
       "      <th>4</th>\n",
       "      <td>2693</td>\n",
       "      <td>2016-10-01 00:00:21</td>\n",
       "      <td>2016-10-01 00:45:15</td>\n",
       "      <td>3428</td>\n",
       "      <td>8 Ave &amp; W 16 St</td>\n",
       "      <td>40.740983</td>\n",
       "      <td>-74.001702</td>\n",
       "      <td>3323</td>\n",
       "      <td>W 106 St &amp; Central Park West</td>\n",
       "      <td>40.798186</td>\n",
       "      <td>-73.960591</td>\n",
       "      <td>26502</td>\n",
       "      <td>Subscriber</td>\n",
       "      <td>1991.0</td>\n",
       "      <td>1</td>\n",
       "    </tr>\n",
       "  </tbody>\n",
       "</table>\n",
       "</div>"
      ],
      "text/plain": [
       "   Trip Duration           Start Time            Stop Time  Start Station ID  \\\n",
       "0            328  2016-10-01 00:00:07  2016-10-01 00:05:35               471   \n",
       "1            398  2016-10-01 00:00:11  2016-10-01 00:06:49              3147   \n",
       "2            430  2016-10-01 00:00:14  2016-10-01 00:07:25               345   \n",
       "3            351  2016-10-01 00:00:21  2016-10-01 00:06:12              3307   \n",
       "4           2693  2016-10-01 00:00:21  2016-10-01 00:45:15              3428   \n",
       "\n",
       "        Start Station Name  Start Station Latitude  Start Station Longitude  \\\n",
       "0  Grand St & Havemeyer St               40.712868               -73.956981   \n",
       "1          E 85 St & 3 Ave               40.778012               -73.954071   \n",
       "2          W 13 St & 6 Ave               40.736494               -73.997044   \n",
       "3   West End Ave & W 94 St               40.794165               -73.974124   \n",
       "4          8 Ave & W 16 St               40.740983               -74.001702   \n",
       "\n",
       "   End Station ID              End Station Name  End Station Latitude  \\\n",
       "0            3077          Stagg St & Union Ave             40.708771   \n",
       "1            3140               1 Ave & E 78 St             40.771404   \n",
       "2             470               W 20 St & 8 Ave             40.743453   \n",
       "3            3357      W 106 St & Amsterdam Ave             40.800836   \n",
       "4            3323  W 106 St & Central Park West             40.798186   \n",
       "\n",
       "   End Station Longitude  Bike ID   User Type  Birth Year  Gender  \n",
       "0             -73.950953    25254  Subscriber      1992.0       1  \n",
       "1             -73.953517    17810  Subscriber      1988.0       2  \n",
       "2             -74.000040    20940  Subscriber      1965.0       1  \n",
       "3             -73.966449    19086  Subscriber      1993.0       1  \n",
       "4             -73.960591    26502  Subscriber      1991.0       1  "
      ]
     },
     "execution_count": 8,
     "metadata": {},
     "output_type": "execute_result"
    }
   ],
   "source": [
    "df = pd.DataFrame(data)\n",
    "df.head()"
   ]
  },
  {
   "cell_type": "code",
   "execution_count": 9,
   "metadata": {
    "collapsed": false
   },
   "outputs": [],
   "source": [
    "# Removing unneccessary columns and leaving only the trip duration and gender\n",
    "\n",
    "df = df.drop(['Stop Time', 'Start Station ID', 'Start Station Name', 'Start Station Latitude', 'Start Station Longitude', \n",
    "        'End Station ID', 'End Station Name', 'End Station Latitude', 'End Station Longitude', 'Bike ID', \n",
    "        'User Type', 'Birth Year', 'Start Time'], axis=1)"
   ]
  },
  {
   "cell_type": "code",
   "execution_count": 10,
   "metadata": {
    "collapsed": false
   },
   "outputs": [
    {
     "data": {
      "text/html": [
       "<div>\n",
       "<table border=\"1\" class=\"dataframe\">\n",
       "  <thead>\n",
       "    <tr style=\"text-align: right;\">\n",
       "      <th></th>\n",
       "      <th>Trip Duration</th>\n",
       "      <th>Gender</th>\n",
       "    </tr>\n",
       "  </thead>\n",
       "  <tbody>\n",
       "    <tr>\n",
       "      <th>0</th>\n",
       "      <td>328</td>\n",
       "      <td>1</td>\n",
       "    </tr>\n",
       "    <tr>\n",
       "      <th>1</th>\n",
       "      <td>398</td>\n",
       "      <td>2</td>\n",
       "    </tr>\n",
       "    <tr>\n",
       "      <th>2</th>\n",
       "      <td>430</td>\n",
       "      <td>1</td>\n",
       "    </tr>\n",
       "    <tr>\n",
       "      <th>3</th>\n",
       "      <td>351</td>\n",
       "      <td>1</td>\n",
       "    </tr>\n",
       "    <tr>\n",
       "      <th>4</th>\n",
       "      <td>2693</td>\n",
       "      <td>1</td>\n",
       "    </tr>\n",
       "    <tr>\n",
       "      <th>5</th>\n",
       "      <td>513</td>\n",
       "      <td>1</td>\n",
       "    </tr>\n",
       "    <tr>\n",
       "      <th>6</th>\n",
       "      <td>601</td>\n",
       "      <td>2</td>\n",
       "    </tr>\n",
       "    <tr>\n",
       "      <th>7</th>\n",
       "      <td>563</td>\n",
       "      <td>1</td>\n",
       "    </tr>\n",
       "    <tr>\n",
       "      <th>8</th>\n",
       "      <td>439</td>\n",
       "      <td>1</td>\n",
       "    </tr>\n",
       "    <tr>\n",
       "      <th>9</th>\n",
       "      <td>269</td>\n",
       "      <td>2</td>\n",
       "    </tr>\n",
       "  </tbody>\n",
       "</table>\n",
       "</div>"
      ],
      "text/plain": [
       "   Trip Duration  Gender\n",
       "0            328       1\n",
       "1            398       2\n",
       "2            430       1\n",
       "3            351       1\n",
       "4           2693       1\n",
       "5            513       1\n",
       "6            601       2\n",
       "7            563       1\n",
       "8            439       1\n",
       "9            269       2"
      ]
     },
     "execution_count": 10,
     "metadata": {},
     "output_type": "execute_result"
    }
   ],
   "source": [
    "df[:10]"
   ]
  },
  {
   "cell_type": "code",
   "execution_count": 11,
   "metadata": {
    "collapsed": false
   },
   "outputs": [],
   "source": [
    "# Making seconds minutes\n",
    "\n",
    "df['Trip Duration'] = (df['Trip Duration'] / 60).T"
   ]
  },
  {
   "cell_type": "code",
   "execution_count": 12,
   "metadata": {
    "collapsed": false
   },
   "outputs": [
    {
     "data": {
      "text/html": [
       "<div>\n",
       "<table border=\"1\" class=\"dataframe\">\n",
       "  <thead>\n",
       "    <tr style=\"text-align: right;\">\n",
       "      <th></th>\n",
       "      <th>Trip Duration</th>\n",
       "      <th>Gender</th>\n",
       "    </tr>\n",
       "  </thead>\n",
       "  <tbody>\n",
       "    <tr>\n",
       "      <th>0</th>\n",
       "      <td>5.466667</td>\n",
       "      <td>1</td>\n",
       "    </tr>\n",
       "    <tr>\n",
       "      <th>1</th>\n",
       "      <td>6.633333</td>\n",
       "      <td>2</td>\n",
       "    </tr>\n",
       "    <tr>\n",
       "      <th>2</th>\n",
       "      <td>7.166667</td>\n",
       "      <td>1</td>\n",
       "    </tr>\n",
       "    <tr>\n",
       "      <th>3</th>\n",
       "      <td>5.850000</td>\n",
       "      <td>1</td>\n",
       "    </tr>\n",
       "    <tr>\n",
       "      <th>4</th>\n",
       "      <td>44.883333</td>\n",
       "      <td>1</td>\n",
       "    </tr>\n",
       "  </tbody>\n",
       "</table>\n",
       "</div>"
      ],
      "text/plain": [
       "   Trip Duration  Gender\n",
       "0       5.466667       1\n",
       "1       6.633333       2\n",
       "2       7.166667       1\n",
       "3       5.850000       1\n",
       "4      44.883333       1"
      ]
     },
     "execution_count": 12,
     "metadata": {},
     "output_type": "execute_result"
    }
   ],
   "source": [
    "df.head() # Final table containing Trip durations for both male and female"
   ]
  },
  {
   "cell_type": "code",
   "execution_count": null,
   "metadata": {
    "collapsed": false,
    "scrolled": true
   },
   "outputs": [],
   "source": [
    "\"\"\"# Creating variables for summing up the trips\n",
    "dsmanmore30 = df[(df['Trip Duration'] >= 30) & (df['Gender'] == 1)]\n",
    "dsmanless30 = df[(df['Trip Duration'] < 30) & (df['Gender'] == 1)]\n",
    "\n",
    "dswomanmore30 = df[(df['Trip Duration'] >= 30) & (df['Gender'] == 2)]\n",
    "dswomanmore30 = df[(df['Trip Duration'] < 30) & (df['Gender'] == 2)]\"\"\""
   ]
  },
  {
   "cell_type": "code",
   "execution_count": null,
   "metadata": {
    "collapsed": true
   },
   "outputs": [],
   "source": []
  },
  {
   "cell_type": "code",
   "execution_count": null,
   "metadata": {
    "collapsed": true
   },
   "outputs": [],
   "source": []
  },
  {
   "cell_type": "code",
   "execution_count": null,
   "metadata": {
    "collapsed": true
   },
   "outputs": [],
   "source": []
  }
 ],
 "metadata": {
  "kernelspec": {
   "display_name": "PUI2016_Python3",
   "language": "python",
   "name": "pui2016_python3"
  },
  "language_info": {
   "codemirror_mode": {
    "name": "ipython",
    "version": 3
   },
   "file_extension": ".py",
   "mimetype": "text/x-python",
   "name": "python",
   "nbconvert_exporter": "python",
   "pygments_lexer": "ipython3",
   "version": "3.5.4"
  }
 },
 "nbformat": 4,
 "nbformat_minor": 0
}
