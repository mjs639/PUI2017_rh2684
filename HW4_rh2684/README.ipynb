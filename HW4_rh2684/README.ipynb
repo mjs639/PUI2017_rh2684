{
 "cells": [
  {
   "cell_type": "markdown",
   "metadata": {},
   "source": [
    "# Homework 4, Assignment 1"
   ]
  },
  {
   "cell_type": "markdown",
   "metadata": {},
   "source": [
    "The review file has been submitted to the repository of Nick Jones and pull requested."
   ]
  },
  {
   "cell_type": "markdown",
   "metadata": {},
   "source": [
    "# Homework 4, Assignment 2"
   ]
  },
  {
   "cell_type": "markdown",
   "metadata": {},
   "source": [
    "I preferred to do this assignment individually. Below is the table."
   ]
  },
  {
   "cell_type": "markdown",
   "metadata": {},
   "source": [
    "<table>\n",
    "  <tr>\n",
    "    <th colspan=\"12\">PUI Homework 4, Assignment 2</th>\n",
    "  </tr>\n",
    "  <tr>\n",
    "    <td>No</td>\n",
    "    <td>**Statistical Analyses</td>\n",
    "    <td>IV(s)</td>\n",
    "    <td>IV type(s)</td>\n",
    "    <td>DV(s)</td>\n",
    "    <td>DV type(s)</td>\n",
    "    <td>Control Var</td>\n",
    "    <td>Control Var type</td>\n",
    "    <td>Question to be answered</td>\n",
    "    <td>H0</td>\n",
    "    <td>alpha</td>\n",
    "    <td>link to paper **</td>\n",
    "  </tr>\n",
    "  <tr>\n",
    "    <td>1</td>\n",
    "    <td>MANOVA</td>\n",
    "    <td>1, Geographical region</td>\n",
    "    <td>categorical</td>\n",
    "    <td>2, Chin shape for males, chin shape for females</td>\n",
    "    <td>categorical, dichotomous</td>\n",
    "    <td>UFA hypothesis expectations on Geography / Chin shape relations </td>\n",
    "    <td>Categorical or binary outcome (yes/no)</td>\n",
    "    <td>Are universally preferred facial phenotypes geographically invariant, as the UFA hypothesis implies?</td>\n",
    "    <td>Geographic differences of patterns of chin shapes of male and female specimen &lt; = expectations of the UFA hypothesis. </td>\n",
    "    <td><br>0.05<br>0.005<br><br><br>P &lt; 0.001 for males<br>'P&lt; 0.01 for females<br></td>\n",
    "    <td>http://journals.plos.org/plosone/article?id=10.1371/journal.pone.0060681#abstract0</td>\n",
    "  </tr>\n",
    "  <tr>\n",
    "    <td>2</td>\n",
    "    <td>Correlation</td>\n",
    "    <td>1, Parameter estimate</td>\n",
    "    <td>nominal</td>\n",
    "    <td>1, Questionnarie score</td>\n",
    "    <td>nominal</td>\n",
    "    <td>Strong hatred</td>\n",
    "    <td>dichotomous</td>\n",
    "    <td>is there a unique pattern of activity in the brain in the context of hate?</td>\n",
    "    <td>Brain clusters activation of people who express hatred &lt;= brain cluster activation of people who express neutrality<br></td>\n",
    "    <td>0.05</td>\n",
    "    <td>http://journals.plos.org/plosone/article?id=10.1371/journal.pone.0003556</td>\n",
    "  </tr>\n",
    "  <tr>\n",
    "    <td>3</td>\n",
    "    <td><br>Logistic<br>regression</td>\n",
    "    <td>Being qualified for OT referral<br></td>\n",
    "    <td>binary</td>\n",
    "    <td><br>12, <br>age, gender, stroke, dementia, psych disorder, Lawton scale, SPMSQ, behavioural, fear of failing, limited rom, estimated risk score of Needing Referral for OT,<br>Estimated Probability of Needing Referral for OT</td>\n",
    "    <td>various categorical, dichotomous, nominal</td>\n",
    "    <td>People referred for OT services</td>\n",
    "    <td>binary outcome or categorical</td>\n",
    "    <td>How to optimize care services resources by timely and appropriate referrals? </td>\n",
    "    <td>Probability of being referred for OT community services by using existing standards based on MDAI &lt;= That of being referred by using the suggested predictive models</td>\n",
    "    <td>0.001-0.05</td>\n",
    "    <td>http://journals.plos.org/plosone/article?id=10.1371/journal.pone.0148414</td>\n",
    "  </tr>\n",
    "</table>"
   ]
  },
  {
   "cell_type": "code",
   "execution_count": null,
   "metadata": {
    "collapsed": true
   },
   "outputs": [],
   "source": []
  }
 ],
 "metadata": {
  "kernelspec": {
   "display_name": "Python 3",
   "language": "python",
   "name": "python3"
  },
  "language_info": {
   "codemirror_mode": {
    "name": "ipython",
    "version": 3
   },
   "file_extension": ".py",
   "mimetype": "text/x-python",
   "name": "python",
   "nbconvert_exporter": "python",
   "pygments_lexer": "ipython3",
   "version": "3.6.1"
  }
 },
 "nbformat": 4,
 "nbformat_minor": 2
}
