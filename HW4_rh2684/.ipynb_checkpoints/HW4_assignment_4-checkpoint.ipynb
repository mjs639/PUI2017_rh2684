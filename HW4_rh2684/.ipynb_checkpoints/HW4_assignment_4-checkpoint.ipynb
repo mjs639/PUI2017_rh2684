{
 "cells": [
  {
   "cell_type": "markdown",
   "metadata": {},
   "source": [
    "# Homework 4, assignment 4."
   ]
  },
  {
   "cell_type": "code",
   "execution_count": 1,
   "metadata": {
    "collapsed": true
   },
   "outputs": [],
   "source": [
    "__author__ = 'Ruben Hambardzumyan, rh2684'"
   ]
  },
  {
   "cell_type": "code",
   "execution_count": 2,
   "metadata": {},
   "outputs": [
    {
     "name": "stdout",
     "output_type": "stream",
     "text": [
      "Populating the interactive namespace from numpy and matplotlib\n"
     ]
    }
   ],
   "source": [
    "# Importing the libraries\n",
    "\n",
    "from __future__ import print_function\n",
    "import scipy.stats\n",
    "import numpy as np\n",
    "import pylab as pl\n",
    "import pandas as pd\n",
    "import os\n",
    "import json\n",
    "\n",
    "%pylab inline"
   ]
  },
  {
   "cell_type": "code",
   "execution_count": 3,
   "metadata": {
    "collapsed": true
   },
   "outputs": [],
   "source": [
    "# Specifying the significance level\n",
    "\n",
    "alpha = 0.05"
   ]
  },
  {
   "cell_type": "markdown",
   "metadata": {},
   "source": [
    "# 1. Parsing and merging the data"
   ]
  },
  {
   "cell_type": "code",
   "execution_count": 4,
   "metadata": {
    "collapsed": true
   },
   "outputs": [],
   "source": [
    "# importing the Citibike data\n",
    "\n",
    "from getCitiBikeCSV import getCitiBikeCSV"
   ]
  },
  {
   "cell_type": "markdown",
   "metadata": {},
   "source": [
    "For this assignment, I will import the 2016 data for the months of January and July"
   ]
  },
  {
   "cell_type": "code",
   "execution_count": 5,
   "metadata": {},
   "outputs": [],
   "source": [
    "months = {\n",
    "    'january': '201601',\n",
    "    'july': '201607'\n",
    "}"
   ]
  },
  {
   "cell_type": "code",
   "execution_count": 6,
   "metadata": {},
   "outputs": [
    {
     "name": "stdout",
     "output_type": "stream",
     "text": [
      "Downloading 201601\n",
      "file in place, you can continue\n"
     ]
    }
   ],
   "source": [
    "# Importing the data for the month of January\n",
    "\n",
    "datestring1 = '201601'\n",
    "\n",
    "getCitiBikeCSV(datestring1)"
   ]
  },
  {
   "cell_type": "code",
   "execution_count": 7,
   "metadata": {},
   "outputs": [
    {
     "name": "stdout",
     "output_type": "stream",
     "text": [
      "Downloading 201607\n",
      "file in place, you can continue\n"
     ]
    }
   ],
   "source": [
    "# Importing the data for the month of February\n",
    "\n",
    "datestring2 = '201607'\n",
    "\n",
    "getCitiBikeCSV(datestring2)"
   ]
  },
  {
   "cell_type": "code",
   "execution_count": 8,
   "metadata": {},
   "outputs": [],
   "source": [
    "# Reading the January data\n",
    "\n",
    "janDf = pd.read_csv(os.getenv(\"PUIDATA\") + \"/\" + months['january'] + '-citibike-tripdata.csv')"
   ]
  },
  {
   "cell_type": "code",
   "execution_count": 9,
   "metadata": {
    "collapsed": true
   },
   "outputs": [],
   "source": [
    "# Reading the February data\n",
    "\n",
    "julDf = pd.read_csv(os.getenv(\"PUIDATA\") + \"/\" + months['july'] + '-citibike-tripdata.csv')"
   ]
  },
  {
   "cell_type": "code",
   "execution_count": 39,
   "metadata": {
    "collapsed": true
   },
   "outputs": [],
   "source": [
    "# Concatenating the datasets\n",
    "\n",
    "months = [janDf, julDf]\n",
    "\n",
    "monthsDf = pd.concat(months)"
   ]
  },
  {
   "cell_type": "code",
   "execution_count": 40,
   "metadata": {
    "scrolled": false
   },
   "outputs": [
    {
     "data": {
      "text/html": [
       "<div>\n",
       "<table border=\"1\" class=\"dataframe\">\n",
       "  <thead>\n",
       "    <tr style=\"text-align: right;\">\n",
       "      <th></th>\n",
       "      <th>tripduration</th>\n",
       "      <th>starttime</th>\n",
       "      <th>stoptime</th>\n",
       "      <th>start station id</th>\n",
       "      <th>start station name</th>\n",
       "      <th>start station latitude</th>\n",
       "      <th>start station longitude</th>\n",
       "      <th>end station id</th>\n",
       "      <th>end station name</th>\n",
       "      <th>end station latitude</th>\n",
       "      <th>end station longitude</th>\n",
       "      <th>bikeid</th>\n",
       "      <th>usertype</th>\n",
       "      <th>birth year</th>\n",
       "      <th>gender</th>\n",
       "    </tr>\n",
       "  </thead>\n",
       "  <tbody>\n",
       "    <tr>\n",
       "      <th>0</th>\n",
       "      <td>923</td>\n",
       "      <td>1/1/2016 00:00:41</td>\n",
       "      <td>1/1/2016 00:16:04</td>\n",
       "      <td>268</td>\n",
       "      <td>Howard St &amp; Centre St</td>\n",
       "      <td>40.719105</td>\n",
       "      <td>-73.999733</td>\n",
       "      <td>3002</td>\n",
       "      <td>South End Ave &amp; Liberty St</td>\n",
       "      <td>40.711512</td>\n",
       "      <td>-74.015756</td>\n",
       "      <td>22285</td>\n",
       "      <td>Subscriber</td>\n",
       "      <td>1958.0</td>\n",
       "      <td>1</td>\n",
       "    </tr>\n",
       "    <tr>\n",
       "      <th>1</th>\n",
       "      <td>379</td>\n",
       "      <td>1/1/2016 00:00:45</td>\n",
       "      <td>1/1/2016 00:07:04</td>\n",
       "      <td>476</td>\n",
       "      <td>E 31 St &amp; 3 Ave</td>\n",
       "      <td>40.743943</td>\n",
       "      <td>-73.979661</td>\n",
       "      <td>498</td>\n",
       "      <td>Broadway &amp; W 32 St</td>\n",
       "      <td>40.748549</td>\n",
       "      <td>-73.988084</td>\n",
       "      <td>17827</td>\n",
       "      <td>Subscriber</td>\n",
       "      <td>1969.0</td>\n",
       "      <td>1</td>\n",
       "    </tr>\n",
       "    <tr>\n",
       "      <th>2</th>\n",
       "      <td>589</td>\n",
       "      <td>1/1/2016 00:00:48</td>\n",
       "      <td>1/1/2016 00:10:37</td>\n",
       "      <td>489</td>\n",
       "      <td>10 Ave &amp; W 28 St</td>\n",
       "      <td>40.750664</td>\n",
       "      <td>-74.001768</td>\n",
       "      <td>284</td>\n",
       "      <td>Greenwich Ave &amp; 8 Ave</td>\n",
       "      <td>40.739017</td>\n",
       "      <td>-74.002638</td>\n",
       "      <td>21997</td>\n",
       "      <td>Subscriber</td>\n",
       "      <td>1982.0</td>\n",
       "      <td>2</td>\n",
       "    </tr>\n",
       "    <tr>\n",
       "      <th>3</th>\n",
       "      <td>889</td>\n",
       "      <td>1/1/2016 00:01:06</td>\n",
       "      <td>1/1/2016 00:15:56</td>\n",
       "      <td>268</td>\n",
       "      <td>Howard St &amp; Centre St</td>\n",
       "      <td>40.719105</td>\n",
       "      <td>-73.999733</td>\n",
       "      <td>3002</td>\n",
       "      <td>South End Ave &amp; Liberty St</td>\n",
       "      <td>40.711512</td>\n",
       "      <td>-74.015756</td>\n",
       "      <td>22794</td>\n",
       "      <td>Subscriber</td>\n",
       "      <td>1961.0</td>\n",
       "      <td>2</td>\n",
       "    </tr>\n",
       "    <tr>\n",
       "      <th>4</th>\n",
       "      <td>1480</td>\n",
       "      <td>1/1/2016 00:01:12</td>\n",
       "      <td>1/1/2016 00:25:52</td>\n",
       "      <td>2006</td>\n",
       "      <td>Central Park S &amp; 6 Ave</td>\n",
       "      <td>40.765909</td>\n",
       "      <td>-73.976342</td>\n",
       "      <td>2006</td>\n",
       "      <td>Central Park S &amp; 6 Ave</td>\n",
       "      <td>40.765909</td>\n",
       "      <td>-73.976342</td>\n",
       "      <td>14562</td>\n",
       "      <td>Subscriber</td>\n",
       "      <td>1952.0</td>\n",
       "      <td>1</td>\n",
       "    </tr>\n",
       "  </tbody>\n",
       "</table>\n",
       "</div>"
      ],
      "text/plain": [
       "   tripduration          starttime           stoptime  start station id  \\\n",
       "0           923  1/1/2016 00:00:41  1/1/2016 00:16:04               268   \n",
       "1           379  1/1/2016 00:00:45  1/1/2016 00:07:04               476   \n",
       "2           589  1/1/2016 00:00:48  1/1/2016 00:10:37               489   \n",
       "3           889  1/1/2016 00:01:06  1/1/2016 00:15:56               268   \n",
       "4          1480  1/1/2016 00:01:12  1/1/2016 00:25:52              2006   \n",
       "\n",
       "       start station name  start station latitude  start station longitude  \\\n",
       "0   Howard St & Centre St               40.719105               -73.999733   \n",
       "1         E 31 St & 3 Ave               40.743943               -73.979661   \n",
       "2        10 Ave & W 28 St               40.750664               -74.001768   \n",
       "3   Howard St & Centre St               40.719105               -73.999733   \n",
       "4  Central Park S & 6 Ave               40.765909               -73.976342   \n",
       "\n",
       "   end station id            end station name  end station latitude  \\\n",
       "0            3002  South End Ave & Liberty St             40.711512   \n",
       "1             498          Broadway & W 32 St             40.748549   \n",
       "2             284       Greenwich Ave & 8 Ave             40.739017   \n",
       "3            3002  South End Ave & Liberty St             40.711512   \n",
       "4            2006      Central Park S & 6 Ave             40.765909   \n",
       "\n",
       "   end station longitude  bikeid    usertype  birth year  gender  \n",
       "0             -74.015756   22285  Subscriber      1958.0       1  \n",
       "1             -73.988084   17827  Subscriber      1969.0       1  \n",
       "2             -74.002638   21997  Subscriber      1982.0       2  \n",
       "3             -74.015756   22794  Subscriber      1961.0       2  \n",
       "4             -73.976342   14562  Subscriber      1952.0       1  "
      ]
     },
     "execution_count": 40,
     "metadata": {},
     "output_type": "execute_result"
    }
   ],
   "source": [
    "monthsDf.head()"
   ]
  },
  {
   "cell_type": "code",
   "execution_count": 41,
   "metadata": {},
   "outputs": [
    {
     "data": {
      "text/plain": [
       "Index(['tripduration', 'starttime', 'stoptime', 'start station id',\n",
       "       'start station name', 'start station latitude',\n",
       "       'start station longitude', 'end station id', 'end station name',\n",
       "       'end station latitude', 'end station longitude', 'bikeid', 'usertype',\n",
       "       'birth year', 'gender'],\n",
       "      dtype='object')"
      ]
     },
     "execution_count": 41,
     "metadata": {},
     "output_type": "execute_result"
    }
   ],
   "source": [
    "monthsDf.columns"
   ]
  },
  {
   "cell_type": "markdown",
   "metadata": {},
   "source": [
    "# 2. Cleaning the dataset"
   ]
  },
  {
   "cell_type": "markdown",
   "metadata": {},
   "source": [
    "<p>\n",
    "For this assignment, we need to test if the distribution of: <br/><br/>\n",
    "    \n",
    "    1) trip duration of bikers that ride during the day vs night <br/><br/>\n",
    "    \n",
    "    2) age of bikers for trips originating in Manhattan and in Brooklyn <br/><br/>\n",
    "    are different, using 3 tests: KS, Pearson's, Spearman's.\n",
    "</p>"
   ]
  },
  {
   "cell_type": "markdown",
   "metadata": {},
   "source": [
    "<p>Therefore, we need the following data from the dataset above:\n",
    "<ul>\n",
    "    <li>Trip duration</li>\n",
    "    <li>Start time (to get the date column)</li>\n",
    "    <li>Start station longitude</li>\n",
    "    <li>Start station lattitude</li>\n",
    "    <li>User type (Subscribers)</li>\n",
    "    <li>Birth year</li>"
   ]
  },
  {
   "cell_type": "code",
   "execution_count": 42,
   "metadata": {},
   "outputs": [],
   "source": [
    "# cleaning the dataset from the extra columns\n",
    "\n",
    "monthsDf.drop(['stoptime', 'start station id', 'start station name', 'end station id', \n",
    "                          'end station name', 'end station latitude', 'end station longitude', \n",
    "                          'bikeid', 'gender'], axis=1, inplace=True)"
   ]
  },
  {
   "cell_type": "code",
   "execution_count": 43,
   "metadata": {
    "scrolled": true
   },
   "outputs": [
    {
     "data": {
      "text/html": [
       "<div>\n",
       "<table border=\"1\" class=\"dataframe\">\n",
       "  <thead>\n",
       "    <tr style=\"text-align: right;\">\n",
       "      <th></th>\n",
       "      <th>tripduration</th>\n",
       "      <th>starttime</th>\n",
       "      <th>start station latitude</th>\n",
       "      <th>start station longitude</th>\n",
       "      <th>usertype</th>\n",
       "      <th>birth year</th>\n",
       "    </tr>\n",
       "  </thead>\n",
       "  <tbody>\n",
       "    <tr>\n",
       "      <th>0</th>\n",
       "      <td>923</td>\n",
       "      <td>1/1/2016 00:00:41</td>\n",
       "      <td>40.719105</td>\n",
       "      <td>-73.999733</td>\n",
       "      <td>Subscriber</td>\n",
       "      <td>1958.0</td>\n",
       "    </tr>\n",
       "    <tr>\n",
       "      <th>1</th>\n",
       "      <td>379</td>\n",
       "      <td>1/1/2016 00:00:45</td>\n",
       "      <td>40.743943</td>\n",
       "      <td>-73.979661</td>\n",
       "      <td>Subscriber</td>\n",
       "      <td>1969.0</td>\n",
       "    </tr>\n",
       "    <tr>\n",
       "      <th>2</th>\n",
       "      <td>589</td>\n",
       "      <td>1/1/2016 00:00:48</td>\n",
       "      <td>40.750664</td>\n",
       "      <td>-74.001768</td>\n",
       "      <td>Subscriber</td>\n",
       "      <td>1982.0</td>\n",
       "    </tr>\n",
       "    <tr>\n",
       "      <th>3</th>\n",
       "      <td>889</td>\n",
       "      <td>1/1/2016 00:01:06</td>\n",
       "      <td>40.719105</td>\n",
       "      <td>-73.999733</td>\n",
       "      <td>Subscriber</td>\n",
       "      <td>1961.0</td>\n",
       "    </tr>\n",
       "    <tr>\n",
       "      <th>4</th>\n",
       "      <td>1480</td>\n",
       "      <td>1/1/2016 00:01:12</td>\n",
       "      <td>40.765909</td>\n",
       "      <td>-73.976342</td>\n",
       "      <td>Subscriber</td>\n",
       "      <td>1952.0</td>\n",
       "    </tr>\n",
       "  </tbody>\n",
       "</table>\n",
       "</div>"
      ],
      "text/plain": [
       "   tripduration          starttime  start station latitude  \\\n",
       "0           923  1/1/2016 00:00:41               40.719105   \n",
       "1           379  1/1/2016 00:00:45               40.743943   \n",
       "2           589  1/1/2016 00:00:48               40.750664   \n",
       "3           889  1/1/2016 00:01:06               40.719105   \n",
       "4          1480  1/1/2016 00:01:12               40.765909   \n",
       "\n",
       "   start station longitude    usertype  birth year  \n",
       "0               -73.999733  Subscriber      1958.0  \n",
       "1               -73.979661  Subscriber      1969.0  \n",
       "2               -74.001768  Subscriber      1982.0  \n",
       "3               -73.999733  Subscriber      1961.0  \n",
       "4               -73.976342  Subscriber      1952.0  "
      ]
     },
     "execution_count": 43,
     "metadata": {},
     "output_type": "execute_result"
    }
   ],
   "source": [
    "monthsDf.head()"
   ]
  },
  {
   "cell_type": "code",
   "execution_count": 44,
   "metadata": {
    "collapsed": true
   },
   "outputs": [],
   "source": [
    "# Removing NaN values\n",
    "\n",
    "monthsDf.dropna(inplace=True)"
   ]
  },
  {
   "cell_type": "code",
   "execution_count": 45,
   "metadata": {
    "collapsed": true
   },
   "outputs": [],
   "source": [
    "# Removing customers to keep only subscribers\n",
    "\n",
    "monthsDf = monthsDf[monthsDf.usertype != 'Customer']"
   ]
  },
  {
   "cell_type": "code",
   "execution_count": 46,
   "metadata": {},
   "outputs": [],
   "source": [
    "# Converting the birth year to integer\n",
    "\n",
    "monthsDf['birth year'] = monthsDf['birth year'].astype(int)"
   ]
  },
  {
   "cell_type": "markdown",
   "metadata": {},
   "source": [
    "# !WARNING! The cell below takes 15 minutes to run on CDF!"
   ]
  },
  {
   "cell_type": "code",
   "execution_count": null,
   "metadata": {},
   "outputs": [],
   "source": [
    "# Adding the Date column to the main dataset\n",
    "\n",
    "monthsDf['date'] = pd.to_datetime(monthsDf['starttime'])"
   ]
  },
  {
   "cell_type": "code",
   "execution_count": 20,
   "metadata": {},
   "outputs": [],
   "source": [
    "# Dropping the Start Time\n",
    "\n",
    "monthsDF = monthsDf.drop(['starttime'], axis=1, inplace=True)"
   ]
  },
  {
   "cell_type": "markdown",
   "metadata": {},
   "source": [
    "# ------------------------------------------------"
   ]
  },
  {
   "cell_type": "code",
   "execution_count": 21,
   "metadata": {
    "collapsed": true
   },
   "outputs": [],
   "source": [
    "# Adding the age column\n",
    "\n",
    "monthsDf['age'] = 2016 - monthsDf['birth year']"
   ]
  },
  {
   "cell_type": "code",
   "execution_count": 36,
   "metadata": {
    "scrolled": true
   },
   "outputs": [
    {
     "data": {
      "text/html": [
       "<div>\n",
       "<table border=\"1\" class=\"dataframe\">\n",
       "  <thead>\n",
       "    <tr style=\"text-align: right;\">\n",
       "      <th></th>\n",
       "      <th>tripduration</th>\n",
       "      <th>start station latitude</th>\n",
       "      <th>start station longitude</th>\n",
       "      <th>usertype</th>\n",
       "      <th>birth year</th>\n",
       "      <th>date</th>\n",
       "      <th>age</th>\n",
       "    </tr>\n",
       "  </thead>\n",
       "  <tbody>\n",
       "    <tr>\n",
       "      <th>0</th>\n",
       "      <td>923</td>\n",
       "      <td>40.719105</td>\n",
       "      <td>-73.999733</td>\n",
       "      <td>Subscriber</td>\n",
       "      <td>1958</td>\n",
       "      <td>2016-01-01 00:00:41</td>\n",
       "      <td>58</td>\n",
       "    </tr>\n",
       "    <tr>\n",
       "      <th>1</th>\n",
       "      <td>379</td>\n",
       "      <td>40.743943</td>\n",
       "      <td>-73.979661</td>\n",
       "      <td>Subscriber</td>\n",
       "      <td>1969</td>\n",
       "      <td>2016-01-01 00:00:45</td>\n",
       "      <td>47</td>\n",
       "    </tr>\n",
       "    <tr>\n",
       "      <th>2</th>\n",
       "      <td>589</td>\n",
       "      <td>40.750664</td>\n",
       "      <td>-74.001768</td>\n",
       "      <td>Subscriber</td>\n",
       "      <td>1982</td>\n",
       "      <td>2016-01-01 00:00:48</td>\n",
       "      <td>34</td>\n",
       "    </tr>\n",
       "    <tr>\n",
       "      <th>3</th>\n",
       "      <td>889</td>\n",
       "      <td>40.719105</td>\n",
       "      <td>-73.999733</td>\n",
       "      <td>Subscriber</td>\n",
       "      <td>1961</td>\n",
       "      <td>2016-01-01 00:01:06</td>\n",
       "      <td>55</td>\n",
       "    </tr>\n",
       "    <tr>\n",
       "      <th>4</th>\n",
       "      <td>1480</td>\n",
       "      <td>40.765909</td>\n",
       "      <td>-73.976342</td>\n",
       "      <td>Subscriber</td>\n",
       "      <td>1952</td>\n",
       "      <td>2016-01-01 00:01:12</td>\n",
       "      <td>64</td>\n",
       "    </tr>\n",
       "  </tbody>\n",
       "</table>\n",
       "</div>"
      ],
      "text/plain": [
       "   tripduration  start station latitude  start station longitude    usertype  \\\n",
       "0           923               40.719105               -73.999733  Subscriber   \n",
       "1           379               40.743943               -73.979661  Subscriber   \n",
       "2           589               40.750664               -74.001768  Subscriber   \n",
       "3           889               40.719105               -73.999733  Subscriber   \n",
       "4          1480               40.765909               -73.976342  Subscriber   \n",
       "\n",
       "   birth year                date  age  \n",
       "0        1958 2016-01-01 00:00:41   58  \n",
       "1        1969 2016-01-01 00:00:45   47  \n",
       "2        1982 2016-01-01 00:00:48   34  \n",
       "3        1961 2016-01-01 00:01:06   55  \n",
       "4        1952 2016-01-01 00:01:12   64  "
      ]
     },
     "execution_count": 36,
     "metadata": {},
     "output_type": "execute_result"
    }
   ],
   "source": [
    "monthsDf.head()"
   ]
  },
  {
   "cell_type": "markdown",
   "metadata": {},
   "source": [
    "# 3. Trip duration of bikers that ride during the day vs night"
   ]
  },
  {
   "cell_type": "markdown",
   "metadata": {
    "collapsed": true
   },
   "source": [
    "## 3.1 Wrangling and plotting the data"
   ]
  },
  {
   "cell_type": "code",
   "execution_count": 23,
   "metadata": {},
   "outputs": [],
   "source": [
    "# Slicing the dataset to get the Trip duration and the starttime\n",
    "\n",
    "tripDf = monthsDf.loc[:, ['tripduration', 'date']]"
   ]
  },
  {
   "cell_type": "code",
   "execution_count": 24,
   "metadata": {
    "collapsed": true
   },
   "outputs": [],
   "source": [
    "# separating the day and night trips\n",
    "\n",
    "tripDay = tripDf.tripduration[(tripDf.date.dt.hour >= 7) & (tripDf.date.dt.hour < 19)] # day starts at 7am and ends at 7pm\n"
   ]
  },
  {
   "cell_type": "code",
   "execution_count": 25,
   "metadata": {},
   "outputs": [],
   "source": [
    "tripNight = tripDf.tripduration[(tripDf.date.dt.hour <= 7) | (tripDf.date.dt.hour > 19)] # night starts at 7pm and ends at 7am"
   ]
  },
  {
   "cell_type": "code",
   "execution_count": 26,
   "metadata": {},
   "outputs": [
    {
     "data": {
      "text/plain": [
       "1563847"
      ]
     },
     "execution_count": 26,
     "metadata": {},
     "output_type": "execute_result"
    }
   ],
   "source": [
    "tripDay.max()"
   ]
  },
  {
   "cell_type": "code",
   "execution_count": 27,
   "metadata": {},
   "outputs": [
    {
     "data": {
      "text/plain": [
       "5700729"
      ]
     },
     "execution_count": 27,
     "metadata": {},
     "output_type": "execute_result"
    }
   ],
   "source": [
    "tripNight.max()"
   ]
  },
  {
   "cell_type": "code",
   "execution_count": 28,
   "metadata": {},
   "outputs": [],
   "source": [
    "bins = np.arange(50, 5000, 100) # specifying bins for plotting"
   ]
  },
  {
   "cell_type": "code",
   "execution_count": 29,
   "metadata": {
    "scrolled": false
   },
   "outputs": [
    {
     "data": {
      "text/html": [
       "<div>\n",
       "<table border=\"1\" class=\"dataframe\">\n",
       "  <thead>\n",
       "    <tr style=\"text-align: right;\">\n",
       "      <th></th>\n",
       "      <th>count_nonzero</th>\n",
       "    </tr>\n",
       "    <tr>\n",
       "      <th>tripduration</th>\n",
       "      <th></th>\n",
       "    </tr>\n",
       "  </thead>\n",
       "  <tbody>\n",
       "    <tr>\n",
       "      <th>(50, 150]</th>\n",
       "      <td>32530</td>\n",
       "    </tr>\n",
       "    <tr>\n",
       "      <th>(150, 250]</th>\n",
       "      <td>109382</td>\n",
       "    </tr>\n",
       "    <tr>\n",
       "      <th>(250, 350]</th>\n",
       "      <td>154503</td>\n",
       "    </tr>\n",
       "    <tr>\n",
       "      <th>(350, 450]</th>\n",
       "      <td>157441</td>\n",
       "    </tr>\n",
       "    <tr>\n",
       "      <th>(450, 550]</th>\n",
       "      <td>141370</td>\n",
       "    </tr>\n",
       "    <tr>\n",
       "      <th>(550, 650]</th>\n",
       "      <td>117604</td>\n",
       "    </tr>\n",
       "    <tr>\n",
       "      <th>(650, 750]</th>\n",
       "      <td>95858</td>\n",
       "    </tr>\n",
       "    <tr>\n",
       "      <th>(750, 850]</th>\n",
       "      <td>77233</td>\n",
       "    </tr>\n",
       "    <tr>\n",
       "      <th>(850, 950]</th>\n",
       "      <td>62749</td>\n",
       "    </tr>\n",
       "    <tr>\n",
       "      <th>(950, 1050]</th>\n",
       "      <td>50751</td>\n",
       "    </tr>\n",
       "    <tr>\n",
       "      <th>(1050, 1150]</th>\n",
       "      <td>42233</td>\n",
       "    </tr>\n",
       "    <tr>\n",
       "      <th>(1150, 1250]</th>\n",
       "      <td>34961</td>\n",
       "    </tr>\n",
       "    <tr>\n",
       "      <th>(1250, 1350]</th>\n",
       "      <td>28931</td>\n",
       "    </tr>\n",
       "    <tr>\n",
       "      <th>(1350, 1450]</th>\n",
       "      <td>24608</td>\n",
       "    </tr>\n",
       "    <tr>\n",
       "      <th>(1450, 1550]</th>\n",
       "      <td>20326</td>\n",
       "    </tr>\n",
       "    <tr>\n",
       "      <th>(1550, 1650]</th>\n",
       "      <td>17154</td>\n",
       "    </tr>\n",
       "    <tr>\n",
       "      <th>(1650, 1750]</th>\n",
       "      <td>14657</td>\n",
       "    </tr>\n",
       "    <tr>\n",
       "      <th>(1750, 1850]</th>\n",
       "      <td>12500</td>\n",
       "    </tr>\n",
       "    <tr>\n",
       "      <th>(1850, 1950]</th>\n",
       "      <td>10166</td>\n",
       "    </tr>\n",
       "    <tr>\n",
       "      <th>(1950, 2050]</th>\n",
       "      <td>8615</td>\n",
       "    </tr>\n",
       "    <tr>\n",
       "      <th>(2050, 2150]</th>\n",
       "      <td>7270</td>\n",
       "    </tr>\n",
       "    <tr>\n",
       "      <th>(2150, 2250]</th>\n",
       "      <td>6108</td>\n",
       "    </tr>\n",
       "    <tr>\n",
       "      <th>(2250, 2350]</th>\n",
       "      <td>4990</td>\n",
       "    </tr>\n",
       "    <tr>\n",
       "      <th>(2350, 2450]</th>\n",
       "      <td>3966</td>\n",
       "    </tr>\n",
       "    <tr>\n",
       "      <th>(2450, 2550]</th>\n",
       "      <td>3043</td>\n",
       "    </tr>\n",
       "    <tr>\n",
       "      <th>(2550, 2650]</th>\n",
       "      <td>2329</td>\n",
       "    </tr>\n",
       "    <tr>\n",
       "      <th>(2650, 2750]</th>\n",
       "      <td>1654</td>\n",
       "    </tr>\n",
       "    <tr>\n",
       "      <th>(2750, 2850]</th>\n",
       "      <td>1188</td>\n",
       "    </tr>\n",
       "    <tr>\n",
       "      <th>(2850, 2950]</th>\n",
       "      <td>904</td>\n",
       "    </tr>\n",
       "    <tr>\n",
       "      <th>(2950, 3050]</th>\n",
       "      <td>711</td>\n",
       "    </tr>\n",
       "    <tr>\n",
       "      <th>(3050, 3150]</th>\n",
       "      <td>570</td>\n",
       "    </tr>\n",
       "    <tr>\n",
       "      <th>(3150, 3250]</th>\n",
       "      <td>473</td>\n",
       "    </tr>\n",
       "    <tr>\n",
       "      <th>(3250, 3350]</th>\n",
       "      <td>415</td>\n",
       "    </tr>\n",
       "    <tr>\n",
       "      <th>(3350, 3450]</th>\n",
       "      <td>323</td>\n",
       "    </tr>\n",
       "    <tr>\n",
       "      <th>(3450, 3550]</th>\n",
       "      <td>298</td>\n",
       "    </tr>\n",
       "    <tr>\n",
       "      <th>(3550, 3650]</th>\n",
       "      <td>236</td>\n",
       "    </tr>\n",
       "    <tr>\n",
       "      <th>(3650, 3750]</th>\n",
       "      <td>216</td>\n",
       "    </tr>\n",
       "    <tr>\n",
       "      <th>(3750, 3850]</th>\n",
       "      <td>180</td>\n",
       "    </tr>\n",
       "    <tr>\n",
       "      <th>(3850, 3950]</th>\n",
       "      <td>149</td>\n",
       "    </tr>\n",
       "    <tr>\n",
       "      <th>(3950, 4050]</th>\n",
       "      <td>146</td>\n",
       "    </tr>\n",
       "    <tr>\n",
       "      <th>(4050, 4150]</th>\n",
       "      <td>125</td>\n",
       "    </tr>\n",
       "    <tr>\n",
       "      <th>(4150, 4250]</th>\n",
       "      <td>100</td>\n",
       "    </tr>\n",
       "    <tr>\n",
       "      <th>(4250, 4350]</th>\n",
       "      <td>125</td>\n",
       "    </tr>\n",
       "    <tr>\n",
       "      <th>(4350, 4450]</th>\n",
       "      <td>110</td>\n",
       "    </tr>\n",
       "    <tr>\n",
       "      <th>(4450, 4550]</th>\n",
       "      <td>96</td>\n",
       "    </tr>\n",
       "    <tr>\n",
       "      <th>(4550, 4650]</th>\n",
       "      <td>65</td>\n",
       "    </tr>\n",
       "    <tr>\n",
       "      <th>(4650, 4750]</th>\n",
       "      <td>71</td>\n",
       "    </tr>\n",
       "    <tr>\n",
       "      <th>(4750, 4850]</th>\n",
       "      <td>65</td>\n",
       "    </tr>\n",
       "    <tr>\n",
       "      <th>(4850, 4950]</th>\n",
       "      <td>69</td>\n",
       "    </tr>\n",
       "  </tbody>\n",
       "</table>\n",
       "</div>"
      ],
      "text/plain": [
       "              count_nonzero\n",
       "tripduration               \n",
       "(50, 150]             32530\n",
       "(150, 250]           109382\n",
       "(250, 350]           154503\n",
       "(350, 450]           157441\n",
       "(450, 550]           141370\n",
       "(550, 650]           117604\n",
       "(650, 750]            95858\n",
       "(750, 850]            77233\n",
       "(850, 950]            62749\n",
       "(950, 1050]           50751\n",
       "(1050, 1150]          42233\n",
       "(1150, 1250]          34961\n",
       "(1250, 1350]          28931\n",
       "(1350, 1450]          24608\n",
       "(1450, 1550]          20326\n",
       "(1550, 1650]          17154\n",
       "(1650, 1750]          14657\n",
       "(1750, 1850]          12500\n",
       "(1850, 1950]          10166\n",
       "(1950, 2050]           8615\n",
       "(2050, 2150]           7270\n",
       "(2150, 2250]           6108\n",
       "(2250, 2350]           4990\n",
       "(2350, 2450]           3966\n",
       "(2450, 2550]           3043\n",
       "(2550, 2650]           2329\n",
       "(2650, 2750]           1654\n",
       "(2750, 2850]           1188\n",
       "(2850, 2950]            904\n",
       "(2950, 3050]            711\n",
       "(3050, 3150]            570\n",
       "(3150, 3250]            473\n",
       "(3250, 3350]            415\n",
       "(3350, 3450]            323\n",
       "(3450, 3550]            298\n",
       "(3550, 3650]            236\n",
       "(3650, 3750]            216\n",
       "(3750, 3850]            180\n",
       "(3850, 3950]            149\n",
       "(3950, 4050]            146\n",
       "(4050, 4150]            125\n",
       "(4150, 4250]            100\n",
       "(4250, 4350]            125\n",
       "(4350, 4450]            110\n",
       "(4450, 4550]             96\n",
       "(4550, 4650]             65\n",
       "(4650, 4750]             71\n",
       "(4750, 4850]             65\n",
       "(4850, 4950]             69"
      ]
     },
     "execution_count": 29,
     "metadata": {},
     "output_type": "execute_result"
    }
   ],
   "source": [
    "tripDay.groupby(pd.cut(tripDay,bins)).agg([count_nonzero])"
   ]
  },
  {
   "cell_type": "code",
   "execution_count": 30,
   "metadata": {},
   "outputs": [
    {
     "data": {
      "image/png": "[encoded data removed]",
      "text/plain": [
       "<matplotlib.figure.Figure at 0x7f9f953e7630>"
      ]
     },
     "metadata": {},
     "output_type": "display_data"
    },
    {
     "data": {
      "image/png": "[encoded data removed]",
      "text/plain": [
       "<matplotlib.figure.Figure at 0x7f9f953e7518>"
      ]
     },
     "metadata": {},
     "output_type": "display_data"
    }
   ],
   "source": [
    "axD = tripDay.groupby(pd.cut(tripDay,bins)).agg([count_nonzero]).plot(kind='bar', \n",
    "                                                                legend=False, figsize=(16, 9), fontsize=18)\n",
    "axD.set_title(\"Trip durations during the Day\", fontsize='20')\n",
    "\n",
    "axN = tripNight.groupby(pd.cut(tripNight,bins)).agg([count_nonzero]).plot(kind='bar', \n",
    "                                                                legend=False, figsize=(16, 9), fontsize=18)\n",
    "axN.set_title(\"Trip durations during the Night\", fontsize='20');\n"
   ]
  },
  {
   "cell_type": "markdown",
   "metadata": {},
   "source": [
    "### Figure 3.1-1: Histogram plotting of trip durations during the day and during the night"
   ]
  },
  {
   "cell_type": "code",
   "execution_count": 31,
   "metadata": {},
   "outputs": [
    {
     "name": "stdout",
     "output_type": "stream",
     "text": [
      "              count_nonzero\n",
      "tripduration               \n",
      "(50, 150]          0.004375\n",
      "(150, 250]         0.014599\n",
      "(250, 350]         0.018990\n",
      "(350, 450]         0.018893\n",
      "(450, 550]         0.014219\n",
      "(550, 650]         0.010661\n",
      "(650, 750]         0.007861\n",
      "(750, 850]         0.004997\n",
      "(850, 950]         0.003599\n",
      "(950, 1050]        0.002488\n",
      "(1050, 1150]       0.001692\n",
      "(1150, 1250]       0.001652\n",
      "(1250, 1350]       0.001684\n",
      "(1350, 1450]       0.001078\n",
      "(1450, 1550]       0.000994\n",
      "(1550, 1650]       0.001121\n",
      "(1650, 1750]       0.001339\n",
      "(1750, 1850]       0.000964\n",
      "(1850, 1950]       0.000813\n",
      "(1950, 2050]       0.000698\n",
      "(2050, 2150]       0.000801\n",
      "(2150, 2250]       0.000710\n",
      "(2250, 2350]       0.000434\n",
      "(2350, 2450]       0.000588\n",
      "(2450, 2550]       0.000507\n",
      "(2550, 2650]       0.000556\n",
      "(2650, 2750]       0.000634\n",
      "(2750, 2850]       0.000555\n",
      "(2850, 2950]       0.000499\n",
      "(2950, 3050]       0.000436\n",
      "(3050, 3150]       0.000351\n",
      "(3150, 3250]       0.000306\n",
      "(3250, 3350]       0.000310\n",
      "(3350, 3450]       0.000283\n",
      "(3450, 3550]       0.000230\n",
      "(3550, 3650]       0.000224\n",
      "(3650, 3750]       0.000172\n",
      "(3750, 3850]       0.000168\n",
      "(3850, 3950]       0.000138\n",
      "(3950, 4050]       0.000147\n",
      "(4050, 4150]       0.000171\n",
      "(4150, 4250]       0.000155\n",
      "(4250, 4350]       0.000101\n",
      "(4350, 4450]       0.000048\n",
      "(4450, 4550]       0.000065\n",
      "(4550, 4650]       0.000062\n",
      "(4650, 4750]       0.000037\n",
      "(4750, 4850]       0.000007\n",
      "(4850, 4950]       0.000000\n"
     ]
    },
    {
     "data": {
      "text/plain": [
       "<matplotlib.legend.Legend at 0x7f9f94fc46d8>"
      ]
     },
     "execution_count": 31,
     "metadata": {},
     "output_type": "execute_result"
    },
    {
     "data": {
      "image/png": "[encoded data removed]",
      "text/plain": [
       "<matplotlib.figure.Figure at 0x7f9f952f28d0>"
      ]
     },
     "metadata": {},
     "output_type": "display_data"
    }
   ],
   "source": [
    "# Plotting the cumulative distribution\n",
    "\n",
    "csD=tripDay.groupby(pd.cut(tripDay,bins)).agg([count_nonzero]).cumsum()\n",
    "\n",
    "csN=tripNight.groupby(pd.cut(tripNight,bins)).agg([count_nonzero]).cumsum()\n",
    "\n",
    "# Code reused from the skeleton notebook here\n",
    "\n",
    "print (np.abs(csD / csD.max()-csN / csN.max()))\n",
    "\n",
    "pl.plot(bins[:-1] + 5, csD / csD.max(), label = \"Day\")\n",
    "pl.plot(bins[:-1] + 5, csN / csN.max(), label = \"Night\")\n",
    "pl.plot(bins[:-1] + 5, np.sqrt(csN / csN.max() - csD / csD.max())**2, 'k-',\n",
    "        label = \"Difference\")\n",
    "pl.xlabel(\"Trip Duration\")\n",
    "pl.ylabel(\"Normalized Cumulative Number\")\n",
    "pl.legend()"
   ]
  },
  {
   "cell_type": "markdown",
   "metadata": {},
   "source": [
    "### Figure 3.1-2: Normalized cumulative number for distribution of trip durations during the Day and during the Night. It is possible to conclude, that the difference between this two samples is very little."
   ]
  },
  {
   "cell_type": "markdown",
   "metadata": {},
   "source": [
    "## 3.2 KS test to compare the samples"
   ]
  },
  {
   "cell_type": "markdown",
   "metadata": {},
   "source": [
    "#### Null Hypothesys: There is no statistical difference in between the samples of distribution of Citibike trip durations during the day and during the night"
   ]
  },
  {
   "cell_type": "code",
   "execution_count": 32,
   "metadata": {},
   "outputs": [
    {
     "name": "stdout",
     "output_type": "stream",
     "text": [
      "Ks_2sampResult(statistic=0.019539603484508727, pvalue=1.1426234683873247e-95)\n"
     ]
    }
   ],
   "source": [
    "ks = scipy.stats.ks_2samp(tripDay, tripNight) # This function computes the Kolmogorov-Smirnov statistic on 2 samples.\n",
    "                                              # in our case, the first sample is the distribution of trip durations\n",
    "                                              # during the day, and the second is that during the night.\n",
    "print(ks)"
   ]
  },
  {
   "cell_type": "markdown",
   "metadata": {},
   "source": [
    "Since the significance level was set to be 5% in the beginning of the assignment, we are getting a p-value which is much smaller than the alpha. Therefore, the Null Hypothesys above is rejected."
   ]
  },
  {
   "cell_type": "markdown",
   "metadata": {},
   "source": [
    "## 3.3 Pearson's test for correlation"
   ]
  },
  {
   "cell_type": "markdown",
   "metadata": {},
   "source": [
    "#### Null Hypothesys: There is no linear relationship in normal distributions of Citibike trip durations data during the day and during the night"
   ]
  },
  {
   "cell_type": "code",
   "execution_count": 33,
   "metadata": {},
   "outputs": [
    {
     "name": "stdout",
     "output_type": "stream",
     "text": [
      "(array([ 0.99994532]), array([  9.45788020e-95]))\n"
     ]
    }
   ],
   "source": [
    "pearson = scipy.stats.pearsonr(csD, csN) # Pearson's correlation test takes the normally distributed datasets and\n",
    "                                         # correlates them, returning the p-value\n",
    "\n",
    "print(pearson)"
   ]
  },
  {
   "cell_type": "markdown",
   "metadata": {},
   "source": [
    "In the array above, the first element is almost equal to +1, which states strong linear relationship in between the two samples.  Therefore, the Null Hypothesys is rejected."
   ]
  },
  {
   "cell_type": "markdown",
   "metadata": {},
   "source": [
    "## 3.4 Spearman's test for correlation"
   ]
  },
  {
   "cell_type": "markdown",
   "metadata": {},
   "source": [
    "#### Null Hypothesys: There is no correlation in distributions of Citibike trip durations data during the day and during the night"
   ]
  },
  {
   "cell_type": "code",
   "execution_count": 34,
   "metadata": {
    "scrolled": true
   },
   "outputs": [
    {
     "name": "stdout",
     "output_type": "stream",
     "text": [
      "SpearmanrResult(correlation=1.0, pvalue=0.0)\n"
     ]
    }
   ],
   "source": [
    "spearman = scipy.stats.spearmanr(csD, csN) # Unlike the Pearson's test, Spearman's test does not assume that there is a\n",
    "                                           # normally distributed dataset. Despite of that, I will use the normal distributions\n",
    "\n",
    "print(spearman)"
   ]
  },
  {
   "cell_type": "markdown",
   "metadata": {},
   "source": [
    "In the array above, the correlation is equal to 1 stating the strong relationship in between the two samples. Therefore, the Null Hypothesys is rejected."
   ]
  },
  {
   "cell_type": "markdown",
   "metadata": {},
   "source": [
    "# 4. Age of bikers for trips originating in Brooklyn and Manhattan"
   ]
  },
  {
   "cell_type": "markdown",
   "metadata": {},
   "source": [
    "## 4.1 Wrangling and plotting the data"
   ]
  },
  {
   "cell_type": "code",
   "execution_count": null,
   "metadata": {
    "collapsed": true
   },
   "outputs": [],
   "source": []
  }
 ],
 "metadata": {
  "kernelspec": {
   "display_name": "Python 3",
   "language": "python",
   "name": "python3"
  },
  "language_info": {
   "codemirror_mode": {
    "name": "ipython",
    "version": 3
   },
   "file_extension": ".py",
   "mimetype": "text/x-python",
   "name": "python",
   "nbconvert_exporter": "python",
   "pygments_lexer": "ipython3",
   "version": "3.6.1"
  }
 },
 "nbformat": 4,
 "nbformat_minor": 1
}
