{
 "cells": [
  {
   "cell_type": "code",
   "execution_count": 53,
   "metadata": {
    "collapsed": false,
    "scrolled": true
   },
   "outputs": [
    {
     "name": "stdout",
     "output_type": "stream",
     "text": [
      "$DFDATA variable is good!\n"
     ]
    }
   ],
   "source": [
    "# Importing the libraries\n",
    "\n",
    "from __future__ import print_function\n",
    "import pandas as pd\n",
    "import pylab as pl\n",
    "import os\n",
    "import numpy as np\n",
    "import datetime as dt\n",
    "\n",
    "# Checking the environmental variable $DFDATA\n",
    "\n",
    "if os.environ.get('DFDATA') is not None:\n",
    "    print(\"$DFDATA variable is good!\")\n",
    "else:\n",
    "    print(\"Something's wrong with the $DFDATA!\")"
   ]
  },
  {
   "cell_type": "code",
   "execution_count": 54,
   "metadata": {
    "collapsed": false,
    "scrolled": false
   },
   "outputs": [],
   "source": [
    "#Fetching the Dataset\n",
    "\n",
    "dfdata = os.environ.get('DFDATA')\n",
    "\n",
    "ds = dfdata + '/eccv-9dzr/ARCHIVED_FHV_Bases_20170310.csv'\n",
    "\n",
    "data = pd.read_csv(ds)\n"
   ]
  },
  {
   "cell_type": "code",
   "execution_count": 55,
   "metadata": {
    "collapsed": false,
    "scrolled": false
   },
   "outputs": [
    {
     "data": {
      "text/html": [
       "<div>\n",
       "<table border=\"1\" class=\"dataframe\">\n",
       "  <thead>\n",
       "    <tr style=\"text-align: right;\">\n",
       "      <th></th>\n",
       "      <th>Base License</th>\n",
       "      <th>Base Name</th>\n",
       "      <th>Base Phone</th>\n",
       "      <th>Street Hail Livery Endorsement</th>\n",
       "      <th>Wheelchair Accessible Vehicles</th>\n",
       "      <th>Base Type</th>\n",
       "      <th>Street Number</th>\n",
       "      <th>Street</th>\n",
       "      <th>City</th>\n",
       "      <th>State</th>\n",
       "      <th>Zip</th>\n",
       "      <th>Location</th>\n",
       "      <th>Longitude</th>\n",
       "      <th>Latitude</th>\n",
       "    </tr>\n",
       "  </thead>\n",
       "  <tbody>\n",
       "    <tr>\n",
       "      <th>0</th>\n",
       "      <td>B01452</td>\n",
       "      <td>AREAS TRANSP INC</td>\n",
       "      <td>(718)967-3232</td>\n",
       "      <td>NO</td>\n",
       "      <td>0</td>\n",
       "      <td>LIVERY BASE</td>\n",
       "      <td>5230</td>\n",
       "      <td>ARTHUR KILL ROAD</td>\n",
       "      <td>STATEN ISLAND</td>\n",
       "      <td>NY</td>\n",
       "      <td>10307</td>\n",
       "      <td>(40.515693, -74.24379)</td>\n",
       "      <td>-74.243790</td>\n",
       "      <td>40.515693</td>\n",
       "    </tr>\n",
       "    <tr>\n",
       "      <th>1</th>\n",
       "      <td>B00972</td>\n",
       "      <td>N.J.M.INC.</td>\n",
       "      <td>(718)967-2500</td>\n",
       "      <td>YES</td>\n",
       "      <td>0</td>\n",
       "      <td>LIVERY BASE</td>\n",
       "      <td>566</td>\n",
       "      <td>INDUSTRIAL LOOP</td>\n",
       "      <td>STATEN ISLAND</td>\n",
       "      <td>NY</td>\n",
       "      <td>10309</td>\n",
       "      <td>(40.547111, -74.230602)</td>\n",
       "      <td>-74.230602</td>\n",
       "      <td>40.547111</td>\n",
       "    </tr>\n",
       "    <tr>\n",
       "      <th>2</th>\n",
       "      <td>B00023</td>\n",
       "      <td>F.J.A. LIVERY CORP</td>\n",
       "      <td>(718)698-4493</td>\n",
       "      <td>NO</td>\n",
       "      <td>0</td>\n",
       "      <td>LIVERY BASE</td>\n",
       "      <td>3747A</td>\n",
       "      <td>VICTORY BOULEVARD</td>\n",
       "      <td>STATEN ISLAND</td>\n",
       "      <td>NY</td>\n",
       "      <td>10314</td>\n",
       "      <td>(40.597937, -74.180879)</td>\n",
       "      <td>-74.180879</td>\n",
       "      <td>40.597937</td>\n",
       "    </tr>\n",
       "  </tbody>\n",
       "</table>\n",
       "</div>"
      ],
      "text/plain": [
       "  Base License           Base Name     Base Phone  \\\n",
       "0       B01452    AREAS TRANSP INC  (718)967-3232   \n",
       "1       B00972          N.J.M.INC.  (718)967-2500   \n",
       "2       B00023  F.J.A. LIVERY CORP  (718)698-4493   \n",
       "\n",
       "  Street Hail Livery Endorsement  Wheelchair Accessible Vehicles    Base Type  \\\n",
       "0                             NO                               0  LIVERY BASE   \n",
       "1                            YES                               0  LIVERY BASE   \n",
       "2                             NO                               0  LIVERY BASE   \n",
       "\n",
       "  Street Number             Street           City State    Zip  \\\n",
       "0          5230   ARTHUR KILL ROAD  STATEN ISLAND    NY  10307   \n",
       "1           566    INDUSTRIAL LOOP  STATEN ISLAND    NY  10309   \n",
       "2         3747A  VICTORY BOULEVARD  STATEN ISLAND    NY  10314   \n",
       "\n",
       "                  Location  Longitude   Latitude  \n",
       "0   (40.515693, -74.24379) -74.243790  40.515693  \n",
       "1  (40.547111, -74.230602) -74.230602  40.547111  \n",
       "2  (40.597937, -74.180879) -74.180879  40.597937  "
      ]
     },
     "execution_count": 55,
     "metadata": {},
     "output_type": "execute_result"
    }
   ],
   "source": [
    "data[:3]"
   ]
  },
  {
   "cell_type": "markdown",
   "metadata": {},
   "source": [
    "## NOTE!\n",
    "\n",
    "### The dataset above ^ has been parsed by using the direct link, as it was specified in the NYU Classes Announcement (the CUSP datahub was not working).  Therefore, I have no idea what is this data, so please, do not expect a proper caption for this data."
   ]
  },
  {
   "cell_type": "code",
   "execution_count": 56,
   "metadata": {
    "collapsed": false
   },
   "outputs": [],
   "source": [
    "# Dropping some data\n",
    "\n",
    "data.drop(['Base License', 'Base Name', 'Base Phone', 'Street Hail Livery Endorsement', 'Wheelchair Accessible Vehicles', \n",
    "          'Base Type', 'Street', 'City', 'State', 'Zip', 'Location', 'Street Number'], axis=1, inplace=True)\n"
   ]
  },
  {
   "cell_type": "code",
   "execution_count": 57,
   "metadata": {
    "collapsed": false
   },
   "outputs": [
    {
     "data": {
      "text/html": [
       "<div>\n",
       "<table border=\"1\" class=\"dataframe\">\n",
       "  <thead>\n",
       "    <tr style=\"text-align: right;\">\n",
       "      <th></th>\n",
       "      <th>Longitude</th>\n",
       "      <th>Latitude</th>\n",
       "    </tr>\n",
       "  </thead>\n",
       "  <tbody>\n",
       "    <tr>\n",
       "      <th>0</th>\n",
       "      <td>-74.243790</td>\n",
       "      <td>40.515693</td>\n",
       "    </tr>\n",
       "    <tr>\n",
       "      <th>1</th>\n",
       "      <td>-74.230602</td>\n",
       "      <td>40.547111</td>\n",
       "    </tr>\n",
       "    <tr>\n",
       "      <th>2</th>\n",
       "      <td>-74.180879</td>\n",
       "      <td>40.597937</td>\n",
       "    </tr>\n",
       "    <tr>\n",
       "      <th>3</th>\n",
       "      <td>-74.150331</td>\n",
       "      <td>40.551166</td>\n",
       "    </tr>\n",
       "    <tr>\n",
       "      <th>4</th>\n",
       "      <td>-74.150026</td>\n",
       "      <td>40.625268</td>\n",
       "    </tr>\n",
       "    <tr>\n",
       "      <th>5</th>\n",
       "      <td>-74.147127</td>\n",
       "      <td>40.637146</td>\n",
       "    </tr>\n",
       "    <tr>\n",
       "      <th>6</th>\n",
       "      <td>-74.146047</td>\n",
       "      <td>40.633944</td>\n",
       "    </tr>\n",
       "    <tr>\n",
       "      <th>7</th>\n",
       "      <td>-74.134678</td>\n",
       "      <td>40.633162</td>\n",
       "    </tr>\n",
       "    <tr>\n",
       "      <th>8</th>\n",
       "      <td>-74.132981</td>\n",
       "      <td>40.638483</td>\n",
       "    </tr>\n",
       "    <tr>\n",
       "      <th>9</th>\n",
       "      <td>-74.127776</td>\n",
       "      <td>40.633732</td>\n",
       "    </tr>\n",
       "  </tbody>\n",
       "</table>\n",
       "</div>"
      ],
      "text/plain": [
       "   Longitude   Latitude\n",
       "0 -74.243790  40.515693\n",
       "1 -74.230602  40.547111\n",
       "2 -74.180879  40.597937\n",
       "3 -74.150331  40.551166\n",
       "4 -74.150026  40.625268\n",
       "5 -74.147127  40.637146\n",
       "6 -74.146047  40.633944\n",
       "7 -74.134678  40.633162\n",
       "8 -74.132981  40.638483\n",
       "9 -74.127776  40.633732"
      ]
     },
     "execution_count": 57,
     "metadata": {},
     "output_type": "execute_result"
    }
   ],
   "source": [
    "data[:10] # Showing first 10 rows of the dataset"
   ]
  },
  {
   "cell_type": "code",
   "execution_count": 58,
   "metadata": {
    "collapsed": false,
    "scrolled": false
   },
   "outputs": [
    {
     "data": {
      "image/png": "[encoded data removed]",
      "text/plain": [
       "<matplotlib.figure.Figure at 0x7ffb2e2e6eb8>"
      ]
     },
     "metadata": {},
     "output_type": "display_data"
    }
   ],
   "source": [
    "# Plotting using scattering\n",
    "\n",
    "data.plot.scatter('Longitude', 'Latitude')\n",
    "\n",
    "pl.title('Longitude and Latitude', weight = 'bold', fontsize = 18)\n",
    "pl.xlabel('Longitude')\n",
    "pl.ylabel('Latitude')\n",
    "pl.grid(True)\n",
    "\n",
    "pl.show()"
   ]
  },
  {
   "cell_type": "markdown",
   "metadata": {},
   "source": [
    "## Figure 1\n",
    "\n",
    "### Figure 1 plots the Longitude against the Latitude"
   ]
  },
  {
   "cell_type": "markdown",
   "metadata": {},
   "source": [
    "## NOTE!\n",
    "\n",
    "### The figure above ^ has been plotted by using a dataset parsed by using the direct link, as it was specified in the NYU Classes Announcement (the CUSP datahub was not working).  Therefore, I have no idea what is this data, so please, do not expect a proper caption for this data."
   ]
  },
  {
   "cell_type": "markdown",
   "metadata": {},
   "source": [
    "## <b>Extra Credit Assignment<b/>\n",
    "\n",
    "## NOTE!\n",
    "\n",
    "### The direct parsing has not revealed any dataset containing Date & Time, therefore, I have parsed a dataset from a link on the NYC Open Data. Code in the first section shows the working DFDATA."
   ]
  },
  {
   "cell_type": "code",
   "execution_count": 59,
   "metadata": {
    "collapsed": false
   },
   "outputs": [],
   "source": [
    "# Fetching the CSV database for inmates from the NYC Open Data\n",
    "\n",
    "extraData = pd.read_csv('https://data.cityofnewyork.us/resource/gqrb-77i6.csv')"
   ]
  },
  {
   "cell_type": "code",
   "execution_count": 60,
   "metadata": {
    "collapsed": false,
    "scrolled": true
   },
   "outputs": [
    {
     "data": {
      "text/html": [
       "<div>\n",
       "<table border=\"1\" class=\"dataframe\">\n",
       "  <thead>\n",
       "    <tr style=\"text-align: right;\">\n",
       "      <th></th>\n",
       "      <th>admitted_dt</th>\n",
       "      <th>age</th>\n",
       "      <th>bradh</th>\n",
       "      <th>custody_level</th>\n",
       "      <th>discharged_dt</th>\n",
       "      <th>gender</th>\n",
       "      <th>infraction</th>\n",
       "      <th>inmate_status_code</th>\n",
       "      <th>inmateid</th>\n",
       "      <th>race</th>\n",
       "      <th>sealed</th>\n",
       "      <th>srg_flg</th>\n",
       "      <th>top_charge</th>\n",
       "    </tr>\n",
       "  </thead>\n",
       "  <tbody>\n",
       "    <tr>\n",
       "      <th>0</th>\n",
       "      <td>2017-01-10T17:10:00.000</td>\n",
       "      <td>28.0</td>\n",
       "      <td>Y</td>\n",
       "      <td>MED</td>\n",
       "      <td>NaN</td>\n",
       "      <td>M</td>\n",
       "      <td>N</td>\n",
       "      <td>DE</td>\n",
       "      <td>20108061</td>\n",
       "      <td>B</td>\n",
       "      <td>N</td>\n",
       "      <td>N</td>\n",
       "      <td>120.25</td>\n",
       "    </tr>\n",
       "    <tr>\n",
       "      <th>1</th>\n",
       "      <td>2017-06-16T15:01:46.000</td>\n",
       "      <td>17.0</td>\n",
       "      <td>N</td>\n",
       "      <td>MAX</td>\n",
       "      <td>NaN</td>\n",
       "      <td>M</td>\n",
       "      <td>Y</td>\n",
       "      <td>DE</td>\n",
       "      <td>20162423</td>\n",
       "      <td>B</td>\n",
       "      <td>N</td>\n",
       "      <td>Y</td>\n",
       "      <td>160.15</td>\n",
       "    </tr>\n",
       "    <tr>\n",
       "      <th>2</th>\n",
       "      <td>2016-07-23T21:10:00.000</td>\n",
       "      <td>62.0</td>\n",
       "      <td>N</td>\n",
       "      <td>MED</td>\n",
       "      <td>NaN</td>\n",
       "      <td>M</td>\n",
       "      <td>N</td>\n",
       "      <td>DE</td>\n",
       "      <td>20170343</td>\n",
       "      <td>A</td>\n",
       "      <td>N</td>\n",
       "      <td>N</td>\n",
       "      <td>125.25</td>\n",
       "    </tr>\n",
       "  </tbody>\n",
       "</table>\n",
       "</div>"
      ],
      "text/plain": [
       "               admitted_dt   age bradh custody_level  discharged_dt gender  \\\n",
       "0  2017-01-10T17:10:00.000  28.0     Y           MED            NaN      M   \n",
       "1  2017-06-16T15:01:46.000  17.0     N           MAX            NaN      M   \n",
       "2  2016-07-23T21:10:00.000  62.0     N           MED            NaN      M   \n",
       "\n",
       "  infraction inmate_status_code  inmateid race sealed srg_flg top_charge  \n",
       "0          N                 DE  20108061    B      N       N     120.25  \n",
       "1          Y                 DE  20162423    B      N       Y     160.15  \n",
       "2          N                 DE  20170343    A      N       N     125.25  "
      ]
     },
     "execution_count": 60,
     "metadata": {},
     "output_type": "execute_result"
    }
   ],
   "source": [
    "extraData[:3]"
   ]
  },
  {
   "cell_type": "code",
   "execution_count": 61,
   "metadata": {
    "collapsed": false
   },
   "outputs": [],
   "source": [
    "# Dropping the extra data\n",
    "\n",
    "extraData.drop(['inmateid', 'bradh', 'custody_level', 'discharged_dt', 'gender', 'infraction', \n",
    "                'inmate_status_code', 'race', 'sealed', 'srg_flg', 'top_charge'], axis=1, inplace=True)"
   ]
  },
  {
   "cell_type": "code",
   "execution_count": 62,
   "metadata": {
    "collapsed": false,
    "scrolled": true
   },
   "outputs": [
    {
     "data": {
      "text/html": [
       "<div>\n",
       "<table border=\"1\" class=\"dataframe\">\n",
       "  <thead>\n",
       "    <tr style=\"text-align: right;\">\n",
       "      <th></th>\n",
       "      <th>admitted_dt</th>\n",
       "      <th>age</th>\n",
       "    </tr>\n",
       "  </thead>\n",
       "  <tbody>\n",
       "    <tr>\n",
       "      <th>0</th>\n",
       "      <td>2017-01-10T17:10:00.000</td>\n",
       "      <td>28.0</td>\n",
       "    </tr>\n",
       "    <tr>\n",
       "      <th>1</th>\n",
       "      <td>2017-06-16T15:01:46.000</td>\n",
       "      <td>17.0</td>\n",
       "    </tr>\n",
       "    <tr>\n",
       "      <th>2</th>\n",
       "      <td>2016-07-23T21:10:00.000</td>\n",
       "      <td>62.0</td>\n",
       "    </tr>\n",
       "    <tr>\n",
       "      <th>3</th>\n",
       "      <td>2017-06-13T13:57:34.000</td>\n",
       "      <td>28.0</td>\n",
       "    </tr>\n",
       "    <tr>\n",
       "      <th>4</th>\n",
       "      <td>2015-08-09T20:07:58.000</td>\n",
       "      <td>37.0</td>\n",
       "    </tr>\n",
       "    <tr>\n",
       "      <th>5</th>\n",
       "      <td>2017-02-19T13:08:00.000</td>\n",
       "      <td>30.0</td>\n",
       "    </tr>\n",
       "    <tr>\n",
       "      <th>6</th>\n",
       "      <td>2015-12-03T14:38:00.000</td>\n",
       "      <td>51.0</td>\n",
       "    </tr>\n",
       "    <tr>\n",
       "      <th>7</th>\n",
       "      <td>2017-08-04T03:13:42.000</td>\n",
       "      <td>33.0</td>\n",
       "    </tr>\n",
       "    <tr>\n",
       "      <th>8</th>\n",
       "      <td>2017-07-28T19:12:00.000</td>\n",
       "      <td>45.0</td>\n",
       "    </tr>\n",
       "    <tr>\n",
       "      <th>9</th>\n",
       "      <td>2017-05-30T11:49:33.000</td>\n",
       "      <td>49.0</td>\n",
       "    </tr>\n",
       "  </tbody>\n",
       "</table>\n",
       "</div>"
      ],
      "text/plain": [
       "               admitted_dt   age\n",
       "0  2017-01-10T17:10:00.000  28.0\n",
       "1  2017-06-16T15:01:46.000  17.0\n",
       "2  2016-07-23T21:10:00.000  62.0\n",
       "3  2017-06-13T13:57:34.000  28.0\n",
       "4  2015-08-09T20:07:58.000  37.0\n",
       "5  2017-02-19T13:08:00.000  30.0\n",
       "6  2015-12-03T14:38:00.000  51.0\n",
       "7  2017-08-04T03:13:42.000  33.0\n",
       "8  2017-07-28T19:12:00.000  45.0\n",
       "9  2017-05-30T11:49:33.000  49.0"
      ]
     },
     "execution_count": 62,
     "metadata": {},
     "output_type": "execute_result"
    }
   ],
   "source": [
    "extraData[:10] # Showing the first 10 rows"
   ]
  },
  {
   "cell_type": "code",
   "execution_count": 63,
   "metadata": {
    "collapsed": false,
    "scrolled": true
   },
   "outputs": [],
   "source": [
    "# Plotting using scattering\n",
    "\n",
    "extraData['date'] = pd.to_datetime(extraData['admitted_dt'])\n",
    "extraData.drop(['admitted_dt'], axis=1, inplace=True) # Dropping the old datetime column\n",
    "\n"
   ]
  },
  {
   "cell_type": "code",
   "execution_count": 64,
   "metadata": {
    "collapsed": false,
    "scrolled": true
   },
   "outputs": [
    {
     "data": {
      "image/png": "[encoded data removed]",
      "text/plain": [
       "<matplotlib.figure.Figure at 0x7ffb2e409588>"
      ]
     },
     "metadata": {},
     "output_type": "display_data"
    }
   ],
   "source": [
    "# Plotting using scattering\n",
    "\n",
    "x = extraData['date']\n",
    "y = extraData['age']\n",
    "\n",
    "\n",
    "pl.plot(x, y, 'o')\n",
    "pl.xlabel('Age of inmates')\n",
    "pl.ylabel('Admission years')\n",
    "pl.title('Inmate Ages Up To 2017', weight = 'bold', fontsize = 18)\n",
    "pl.grid(True)\n",
    "\n",
    "pl.show()\n"
   ]
  },
  {
   "cell_type": "markdown",
   "metadata": {},
   "source": [
    "## <b>Figure 2</b>\n",
    "\n",
    "<p>The image above shows the inmate ages up to the year of 2017.</p>"
   ]
  }
 ],
 "metadata": {
  "kernelspec": {
   "display_name": "PUI2016_Python3",
   "language": "python",
   "name": "pui2016_python3"
  },
  "language_info": {
   "codemirror_mode": {
    "name": "ipython",
    "version": 3
   },
   "file_extension": ".py",
   "mimetype": "text/x-python",
   "name": "python",
   "nbconvert_exporter": "python",
   "pygments_lexer": "ipython3",
   "version": "3.5.2"
  }
 },
 "nbformat": 4,
 "nbformat_minor": 0
}
