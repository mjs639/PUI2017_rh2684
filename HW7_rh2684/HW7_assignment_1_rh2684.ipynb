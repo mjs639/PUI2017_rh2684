{
 "cells": [
  {
   "cell_type": "markdown",
   "metadata": {},
   "source": [
    "# Citibike Trips Distance Analysis for Men and Women"
   ]
  },
  {
   "cell_type": "code",
   "execution_count": 606,
   "metadata": {
    "collapsed": false
   },
   "outputs": [],
   "source": [
    "__author__ = 'Ruben Hambardzumyan, rh2684'"
   ]
  },
  {
   "cell_type": "markdown",
   "metadata": {},
   "source": [
    "## Table of Contents\n",
    "\n",
    "1. [Setup](## 1. Setup)\n",
    "2. [The Idea and Initial Null Hypothesis](## 2. The Idea and Initial Null Hypothesis)\n",
    "3. [Comments on Gerardo's Review, and The Final Null Nypothesis](## 3. Comments on Gerardo's Review, and The Final Null Nypothesis)\n",
    "4. [Choosing The Statistical Test](## 4. Choosing The Statistical Test)\n",
    "5. [Importing the Data](## 5. Importing the Data)\n",
    "6. [Data Munging](## 6. Data Munging)\n",
    "7. [Statistical Test](## 7. Statistical Test)\n",
    "8. [Results](## 8. Results)\n"
   ]
  },
  {
   "cell_type": "markdown",
   "metadata": {},
   "source": [
    "## 1. Setup"
   ]
  },
  {
   "cell_type": "code",
   "execution_count": 607,
   "metadata": {
    "collapsed": false
   },
   "outputs": [
    {
     "name": "stdout",
     "output_type": "stream",
     "text": [
      "Populating the interactive namespace from numpy and matplotlib\n"
     ]
    }
   ],
   "source": [
    "# Importing the libraries.\n",
    "\n",
    "from __future__  import print_function, division\n",
    "import pylab as pl\n",
    "import pandas as pd\n",
    "import numpy as np\n",
    "import os\n",
    "import math\n",
    "import scipy.stats as st\n",
    "\n",
    "%pylab inline\n",
    "\n",
    "# Checking the $PUIDATA environmental variable\n",
    "\n",
    "if not os.environ.get('PUIDATA'):\n",
    "    print('The $PUIDATA environmental variable does not exist!')\n",
    "\n",
    "# Setting the significance level\n",
    "\n",
    "alpha = 0.05\n",
    "\n",
    "# Setting the random seed\n",
    "\n",
    "np.random.seed(1452)"
   ]
  },
  {
   "cell_type": "markdown",
   "metadata": {},
   "source": [
    "## 2. The Idea and Initial Null Hypothesis"
   ]
  },
  {
   "cell_type": "markdown",
   "metadata": {
    "collapsed": true
   },
   "source": [
    "### Idea: Men are more likely to cycle long distances than women\n",
    "\n",
    "<b>Initial Null Hypothesis:</b> <i>The ratio of women continuously cycling more than 30 minutes over the women that cycle less than 30 minutes is the same or lower than the ratio of men continuously cycling more than 30 minutes over the men cycling less than 30 minutes.</i>"
   ]
  },
  {
   "cell_type": "markdown",
   "metadata": {},
   "source": [
    "$$\n",
    "    H_1: \\frac{M(T>30)}{M(T<30)}>\\frac{W(T>30)}{W(T<30)}\n",
    "$$\n",
    "\n",
    "$$\n",
    "    H_0: \\frac{W(T>30)}{W(T<30)}<=\\frac{M(T>30)}{M(T<30)}\n",
    "$$\n",
    "\n",
    "<b>Or</b>:\n",
    "\n",
    "$$\n",
    "    H_1: \\frac{M(T>30)}{M(T<30)}-\\frac{W(T>30)}{W(T<30)}>0\n",
    "$$\n",
    "\n",
    "$$\n",
    "    H_0: \\frac{W(T>30)}{W(T<30)}-\\frac{M(T>30)}{M(T<30)}<=0\n",
    "$$\n"
   ]
  },
  {
   "cell_type": "markdown",
   "metadata": {},
   "source": [
    "## 3. Comments on Gerardo's Review, and The Final Null Nypothesis"
   ]
  },
  {
   "cell_type": "markdown",
   "metadata": {},
   "source": [
    "Originally, the idea behind the Initial Null Hypothesis was testing the premise that men, considered having stronger physics and endurance by nature, travel longer distances then women. For the Citibike subscribers, I was wondering whether or not the fact that users constantly cycle (thus, maintain the fitness of their body) supports the premise, and if it does - to which extent. \n",
    "\n",
    "Gerardo noticed that right in this paragraph:\n",
    "\n",
    "<p style=\"background-color:Gainsboro;\n",
    "          text-align:justify; \n",
    "          padding:10px;\n",
    "          font-family:monospace;\">\n",
    "Variations on the question: The analysis addressed was really: Are men more likely than women to spend more than 30 min on a bike. Which I guess could be motivated by the question: Do men spend more time biking than women do? I think the original idea is valid one and could be used by Citibike to address certain gender gap between users: Why is the citibike user more likely to be a man than a women? Why do women travel shorter distances? Why do men bike faster than women do? Is it related to physical aspects of the bike like weight and size? Is it because women are more cautious than men?</p>\n",
    "\n",
    "Furthermore, I agree with him on this:\n",
    "\n",
    "<p style=\"background-color:Gainsboro;\n",
    "          text-align:justify; \n",
    "          padding:10px;\n",
    "          font-family:monospace;\">\n",
    "However the null hypthesis talks about time and not distance as if the speed of both was the same. Having worked on speed as a variable, I know this is no so.</p>\n",
    "\n",
    "That being said, I don't agree with the Null Hypothesis he proposes:\n",
    "\n",
    "<p style=\"background-color:Gainsboro;\n",
    "          text-align:justify; \n",
    "          padding:10px;\n",
    "          font-family:monospace;\">\n",
    "Ho = The average distance cycled per trip by women is the same or less than that of men.</p>\n",
    "\n",
    "As it misses the **range of trips**. Average of how many trips? Thus, I believe a better Final Null Hypothesis to address my question will be:\n",
    "\n",
    "** Final Null Hypothesis: The average trip distance cycled by women in the month of October, 2016 is the same or less than that of men.**\n",
    "\n",
    "Or:\n",
    "\n",
    "$$\n",
    "    H_1: M(Monthly_Average_Distance)>W(Monthly_Average_Distance)\n",
    "$$\n",
    "\n",
    "$$\n",
    "    H_0: M(Monthly_Average_Distance)<=W(Monthly_Average_Distance)\n",
    "$$"
   ]
  },
  {
   "cell_type": "markdown",
   "metadata": {},
   "source": [
    "## 4. Choosing The Statistical Test"
   ]
  },
  {
   "cell_type": "markdown",
   "metadata": {},
   "source": [
    "This is the case, when two groups (men/women) of the same population are being compared. Since the data is quantitative, I will conduct a ** Student's t-test** to determine the difference in between the means of the two groups.\n",
    "\n",
    "This coincides with Gerardo's advice (taking into account that he has some terminology issues in it):\n",
    "\n",
    "<p style=\"background-color:Gainsboro;\n",
    "          text-align:justify; \n",
    "          padding:10px;\n",
    "          font-family:monospace;\">\n",
    "Statistical hypthesis test: since the values of distance are parametric and unpaired a simple T-test would do, since all data is available and both the mean and standard deviation's population are known we could use a Z-test.</p>"
   ]
  },
  {
   "cell_type": "markdown",
   "metadata": {},
   "source": [
    "## 5. Importing the Data"
   ]
  },
  {
   "cell_type": "markdown",
   "metadata": {},
   "source": [
    "### The Data: The Citibike data for the month of October 2016 will be used."
   ]
  },
  {
   "cell_type": "code",
   "execution_count": 608,
   "metadata": {
    "collapsed": true
   },
   "outputs": [],
   "source": [
    "def getCitibikeData(dsNum):\n",
    "    os.system(\"curl -O https://s3.amazonaws.com/tripdata/\" + dsNum + \"-citibike-tripdata.zip\")\n",
    "    print('downloading...')\n",
    "    os.system(\"mv \" + dsNum + \"-citibike-tripdata.zip \" + os.getenv(\"PUIDATA\"))\n",
    "    print('moved!')\n",
    "    os.system(\"unzip \" + os.getenv(\"PUIDATA\") + \"/\" + dsNum + \"-citibike-tripdata.zip\")\n",
    "    print('unzipped!')\n",
    "    os.system(\"mv \" + dsNum + \"-citibike-tripdata.csv \" + os.getenv(\"PUIDATA\")) \n",
    "    print('unzip moved!')"
   ]
  },
  {
   "cell_type": "code",
   "execution_count": 609,
   "metadata": {
    "collapsed": false
   },
   "outputs": [
    {
     "name": "stdout",
     "output_type": "stream",
     "text": [
      "downloading...\n",
      "moved!\n",
      "unzipped!\n",
      "unzip moved!\n"
     ]
    }
   ],
   "source": [
    "dsNum = '201610'\n",
    "getCitibikeData(dsNum)"
   ]
  },
  {
   "cell_type": "code",
   "execution_count": 610,
   "metadata": {
    "collapsed": true
   },
   "outputs": [],
   "source": [
    "ds = os.environ.get('PUIDATA') + '/' + dsNum + '-citibike-tripdata.csv'"
   ]
  },
  {
   "cell_type": "code",
   "execution_count": 611,
   "metadata": {
    "collapsed": true,
    "scrolled": true
   },
   "outputs": [],
   "source": [
    "data = pd.read_csv(ds)"
   ]
  },
  {
   "cell_type": "code",
   "execution_count": 612,
   "metadata": {
    "collapsed": false,
    "scrolled": false
   },
   "outputs": [
    {
     "data": {
      "text/html": [
       "<div>\n",
       "<table border=\"1\" class=\"dataframe\">\n",
       "  <thead>\n",
       "    <tr style=\"text-align: right;\">\n",
       "      <th></th>\n",
       "      <th>Trip Duration</th>\n",
       "      <th>Start Time</th>\n",
       "      <th>Stop Time</th>\n",
       "      <th>Start Station ID</th>\n",
       "      <th>Start Station Name</th>\n",
       "      <th>Start Station Latitude</th>\n",
       "      <th>Start Station Longitude</th>\n",
       "      <th>End Station ID</th>\n",
       "      <th>End Station Name</th>\n",
       "      <th>End Station Latitude</th>\n",
       "      <th>End Station Longitude</th>\n",
       "      <th>Bike ID</th>\n",
       "      <th>User Type</th>\n",
       "      <th>Birth Year</th>\n",
       "      <th>Gender</th>\n",
       "    </tr>\n",
       "  </thead>\n",
       "  <tbody>\n",
       "    <tr>\n",
       "      <th>0</th>\n",
       "      <td>328</td>\n",
       "      <td>2016-10-01 00:00:07</td>\n",
       "      <td>2016-10-01 00:05:35</td>\n",
       "      <td>471</td>\n",
       "      <td>Grand St &amp; Havemeyer St</td>\n",
       "      <td>40.712868</td>\n",
       "      <td>-73.956981</td>\n",
       "      <td>3077</td>\n",
       "      <td>Stagg St &amp; Union Ave</td>\n",
       "      <td>40.708771</td>\n",
       "      <td>-73.950953</td>\n",
       "      <td>25254</td>\n",
       "      <td>Subscriber</td>\n",
       "      <td>1992.0</td>\n",
       "      <td>1</td>\n",
       "    </tr>\n",
       "    <tr>\n",
       "      <th>1</th>\n",
       "      <td>398</td>\n",
       "      <td>2016-10-01 00:00:11</td>\n",
       "      <td>2016-10-01 00:06:49</td>\n",
       "      <td>3147</td>\n",
       "      <td>E 85 St &amp; 3 Ave</td>\n",
       "      <td>40.778012</td>\n",
       "      <td>-73.954071</td>\n",
       "      <td>3140</td>\n",
       "      <td>1 Ave &amp; E 78 St</td>\n",
       "      <td>40.771404</td>\n",
       "      <td>-73.953517</td>\n",
       "      <td>17810</td>\n",
       "      <td>Subscriber</td>\n",
       "      <td>1988.0</td>\n",
       "      <td>2</td>\n",
       "    </tr>\n",
       "    <tr>\n",
       "      <th>2</th>\n",
       "      <td>430</td>\n",
       "      <td>2016-10-01 00:00:14</td>\n",
       "      <td>2016-10-01 00:07:25</td>\n",
       "      <td>345</td>\n",
       "      <td>W 13 St &amp; 6 Ave</td>\n",
       "      <td>40.736494</td>\n",
       "      <td>-73.997044</td>\n",
       "      <td>470</td>\n",
       "      <td>W 20 St &amp; 8 Ave</td>\n",
       "      <td>40.743453</td>\n",
       "      <td>-74.000040</td>\n",
       "      <td>20940</td>\n",
       "      <td>Subscriber</td>\n",
       "      <td>1965.0</td>\n",
       "      <td>1</td>\n",
       "    </tr>\n",
       "    <tr>\n",
       "      <th>3</th>\n",
       "      <td>351</td>\n",
       "      <td>2016-10-01 00:00:21</td>\n",
       "      <td>2016-10-01 00:06:12</td>\n",
       "      <td>3307</td>\n",
       "      <td>West End Ave &amp; W 94 St</td>\n",
       "      <td>40.794165</td>\n",
       "      <td>-73.974124</td>\n",
       "      <td>3357</td>\n",
       "      <td>W 106 St &amp; Amsterdam Ave</td>\n",
       "      <td>40.800836</td>\n",
       "      <td>-73.966449</td>\n",
       "      <td>19086</td>\n",
       "      <td>Subscriber</td>\n",
       "      <td>1993.0</td>\n",
       "      <td>1</td>\n",
       "    </tr>\n",
       "    <tr>\n",
       "      <th>4</th>\n",
       "      <td>2693</td>\n",
       "      <td>2016-10-01 00:00:21</td>\n",
       "      <td>2016-10-01 00:45:15</td>\n",
       "      <td>3428</td>\n",
       "      <td>8 Ave &amp; W 16 St</td>\n",
       "      <td>40.740983</td>\n",
       "      <td>-74.001702</td>\n",
       "      <td>3323</td>\n",
       "      <td>W 106 St &amp; Central Park West</td>\n",
       "      <td>40.798186</td>\n",
       "      <td>-73.960591</td>\n",
       "      <td>26502</td>\n",
       "      <td>Subscriber</td>\n",
       "      <td>1991.0</td>\n",
       "      <td>1</td>\n",
       "    </tr>\n",
       "  </tbody>\n",
       "</table>\n",
       "</div>"
      ],
      "text/plain": [
       "   Trip Duration           Start Time            Stop Time  Start Station ID  \\\n",
       "0            328  2016-10-01 00:00:07  2016-10-01 00:05:35               471   \n",
       "1            398  2016-10-01 00:00:11  2016-10-01 00:06:49              3147   \n",
       "2            430  2016-10-01 00:00:14  2016-10-01 00:07:25               345   \n",
       "3            351  2016-10-01 00:00:21  2016-10-01 00:06:12              3307   \n",
       "4           2693  2016-10-01 00:00:21  2016-10-01 00:45:15              3428   \n",
       "\n",
       "        Start Station Name  Start Station Latitude  Start Station Longitude  \\\n",
       "0  Grand St & Havemeyer St               40.712868               -73.956981   \n",
       "1          E 85 St & 3 Ave               40.778012               -73.954071   \n",
       "2          W 13 St & 6 Ave               40.736494               -73.997044   \n",
       "3   West End Ave & W 94 St               40.794165               -73.974124   \n",
       "4          8 Ave & W 16 St               40.740983               -74.001702   \n",
       "\n",
       "   End Station ID              End Station Name  End Station Latitude  \\\n",
       "0            3077          Stagg St & Union Ave             40.708771   \n",
       "1            3140               1 Ave & E 78 St             40.771404   \n",
       "2             470               W 20 St & 8 Ave             40.743453   \n",
       "3            3357      W 106 St & Amsterdam Ave             40.800836   \n",
       "4            3323  W 106 St & Central Park West             40.798186   \n",
       "\n",
       "   End Station Longitude  Bike ID   User Type  Birth Year  Gender  \n",
       "0             -73.950953    25254  Subscriber      1992.0       1  \n",
       "1             -73.953517    17810  Subscriber      1988.0       2  \n",
       "2             -74.000040    20940  Subscriber      1965.0       1  \n",
       "3             -73.966449    19086  Subscriber      1993.0       1  \n",
       "4             -73.960591    26502  Subscriber      1991.0       1  "
      ]
     },
     "execution_count": 612,
     "metadata": {},
     "output_type": "execute_result"
    }
   ],
   "source": [
    "data.head()"
   ]
  },
  {
   "cell_type": "code",
   "execution_count": 613,
   "metadata": {
    "collapsed": false
   },
   "outputs": [
    {
     "data": {
      "text/plain": [
       "Index(['Trip Duration', 'Start Time', 'Stop Time', 'Start Station ID',\n",
       "       'Start Station Name', 'Start Station Latitude',\n",
       "       'Start Station Longitude', 'End Station ID', 'End Station Name',\n",
       "       'End Station Latitude', 'End Station Longitude', 'Bike ID', 'User Type',\n",
       "       'Birth Year', 'Gender'],\n",
       "      dtype='object')"
      ]
     },
     "execution_count": 613,
     "metadata": {},
     "output_type": "execute_result"
    }
   ],
   "source": [
    "data.columns"
   ]
  },
  {
   "cell_type": "code",
   "execution_count": 619,
   "metadata": {
    "collapsed": false
   },
   "outputs": [],
   "source": [
    "data['Start Station Latitude'] = pd.to_numeric(data['Start Station Latitude'], errors='coerce')\n",
    "data['Start Station Longitude'] = pd.to_numeric(data['Start Station Longitude'], errors='coerce')\n",
    "data['End Station Latitude'] = pd.to_numeric(data['End Station Latitude'], errors='coerce')\n",
    "data['End Station Longitude'] = pd.to_numeric(data['End Station Longitude'], errors='coerce')"
   ]
  },
  {
   "cell_type": "markdown",
   "metadata": {},
   "source": [
    "## 6. Data Munging"
   ]
  },
  {
   "cell_type": "markdown",
   "metadata": {},
   "source": [
    "To calculate the average means of travel distance, we need the following data:\n",
    "\n",
    "We have:\n",
    "<ul>\n",
    "<li>Start Station Latitude</li>\n",
    "<li>Start Station Longitude</li>\n",
    "<li>End Station Latitude</li>\n",
    "<li>End Station Longitude</li>\n",
    "<li>User Type</li>\n",
    "<li>Gender</li>\n",
    "</ul>\n",
    "We need:\n",
    "<ul>\n",
    "<li>Trip Distance</li>\n",
    "</ul>\n",
    "\n",
    "A sample dataset of every random 1000 rows will be used to speed up the calculations."
   ]
  },
  {
   "cell_type": "code",
   "execution_count": 621,
   "metadata": {
    "collapsed": false
   },
   "outputs": [],
   "source": [
    "# Creating a dataset with the data that we have and need\n",
    "\n",
    "data1 = pd.DataFrame(data, columns=['Start Station Latitude',\n",
    "       'Start Station Longitude',\n",
    "       'End Station Latitude', 'End Station Longitude', 'User Type', 'Gender', 'Distance'])"
   ]
  },
  {
   "cell_type": "code",
   "execution_count": 622,
   "metadata": {
    "collapsed": false
   },
   "outputs": [
    {
     "data": {
      "text/html": [
       "<div>\n",
       "<table border=\"1\" class=\"dataframe\">\n",
       "  <thead>\n",
       "    <tr style=\"text-align: right;\">\n",
       "      <th></th>\n",
       "      <th>Start Station Latitude</th>\n",
       "      <th>Start Station Longitude</th>\n",
       "      <th>End Station Latitude</th>\n",
       "      <th>End Station Longitude</th>\n",
       "      <th>User Type</th>\n",
       "      <th>Gender</th>\n",
       "      <th>Distance</th>\n",
       "    </tr>\n",
       "  </thead>\n",
       "  <tbody>\n",
       "    <tr>\n",
       "      <th>0</th>\n",
       "      <td>40.712868</td>\n",
       "      <td>-73.956981</td>\n",
       "      <td>40.708771</td>\n",
       "      <td>-73.950953</td>\n",
       "      <td>Subscriber</td>\n",
       "      <td>1</td>\n",
       "      <td>NaN</td>\n",
       "    </tr>\n",
       "    <tr>\n",
       "      <th>1</th>\n",
       "      <td>40.778012</td>\n",
       "      <td>-73.954071</td>\n",
       "      <td>40.771404</td>\n",
       "      <td>-73.953517</td>\n",
       "      <td>Subscriber</td>\n",
       "      <td>2</td>\n",
       "      <td>NaN</td>\n",
       "    </tr>\n",
       "    <tr>\n",
       "      <th>2</th>\n",
       "      <td>40.736494</td>\n",
       "      <td>-73.997044</td>\n",
       "      <td>40.743453</td>\n",
       "      <td>-74.000040</td>\n",
       "      <td>Subscriber</td>\n",
       "      <td>1</td>\n",
       "      <td>NaN</td>\n",
       "    </tr>\n",
       "    <tr>\n",
       "      <th>3</th>\n",
       "      <td>40.794165</td>\n",
       "      <td>-73.974124</td>\n",
       "      <td>40.800836</td>\n",
       "      <td>-73.966449</td>\n",
       "      <td>Subscriber</td>\n",
       "      <td>1</td>\n",
       "      <td>NaN</td>\n",
       "    </tr>\n",
       "    <tr>\n",
       "      <th>4</th>\n",
       "      <td>40.740983</td>\n",
       "      <td>-74.001702</td>\n",
       "      <td>40.798186</td>\n",
       "      <td>-73.960591</td>\n",
       "      <td>Subscriber</td>\n",
       "      <td>1</td>\n",
       "      <td>NaN</td>\n",
       "    </tr>\n",
       "  </tbody>\n",
       "</table>\n",
       "</div>"
      ],
      "text/plain": [
       "   Start Station Latitude  Start Station Longitude  End Station Latitude  \\\n",
       "0               40.712868               -73.956981             40.708771   \n",
       "1               40.778012               -73.954071             40.771404   \n",
       "2               40.736494               -73.997044             40.743453   \n",
       "3               40.794165               -73.974124             40.800836   \n",
       "4               40.740983               -74.001702             40.798186   \n",
       "\n",
       "   End Station Longitude   User Type  Gender  Distance  \n",
       "0             -73.950953  Subscriber       1       NaN  \n",
       "1             -73.953517  Subscriber       2       NaN  \n",
       "2             -74.000040  Subscriber       1       NaN  \n",
       "3             -73.966449  Subscriber       1       NaN  \n",
       "4             -73.960591  Subscriber       1       NaN  "
      ]
     },
     "execution_count": 622,
     "metadata": {},
     "output_type": "execute_result"
    }
   ],
   "source": [
    "data1.head()"
   ]
  },
  {
   "cell_type": "code",
   "execution_count": 623,
   "metadata": {
    "collapsed": false
   },
   "outputs": [
    {
     "data": {
      "text/plain": [
       "(1573872, 7)"
      ]
     },
     "execution_count": 623,
     "metadata": {},
     "output_type": "execute_result"
    }
   ],
   "source": [
    "data1.shape"
   ]
  },
  {
   "cell_type": "code",
   "execution_count": 624,
   "metadata": {
    "collapsed": false
   },
   "outputs": [],
   "source": [
    "# Removing the data for Customers, leaving only Subscribers\n",
    "\n",
    "data1 = data1[data1['User Type'] != 'Customer']"
   ]
  },
  {
   "cell_type": "code",
   "execution_count": 625,
   "metadata": {
    "collapsed": true
   },
   "outputs": [],
   "source": [
    "data1['User Type'].dropna(axis=0, how='any', inplace=True)"
   ]
  },
  {
   "cell_type": "code",
   "execution_count": 626,
   "metadata": {
    "collapsed": false
   },
   "outputs": [
    {
     "data": {
      "text/plain": [
       "(1420530, 7)"
      ]
     },
     "execution_count": 626,
     "metadata": {},
     "output_type": "execute_result"
    }
   ],
   "source": [
    "data1.shape"
   ]
  },
  {
   "cell_type": "code",
   "execution_count": 627,
   "metadata": {
    "collapsed": true
   },
   "outputs": [],
   "source": [
    "# Creating a sample dataset\n",
    "\n",
    "df = data1[::1000]"
   ]
  },
  {
   "cell_type": "code",
   "execution_count": 628,
   "metadata": {
    "collapsed": false
   },
   "outputs": [
    {
     "data": {
      "text/plain": [
       "(1421, 7)"
      ]
     },
     "execution_count": 628,
     "metadata": {},
     "output_type": "execute_result"
    }
   ],
   "source": [
    "df.shape"
   ]
  },
  {
   "cell_type": "markdown",
   "metadata": {
    "collapsed": true
   },
   "source": [
    "### Distance Calculation and The Final Dataframe"
   ]
  },
  {
   "cell_type": "code",
   "execution_count": 629,
   "metadata": {
    "collapsed": false
   },
   "outputs": [],
   "source": [
    "# Defining the function to calculate the distance by using geographical coordinates\n",
    "\n",
    "def distanceCalc(stLat, stLong, enLat, enLong):\n",
    "    \"\"\"This function takes four parameters:\n",
    "        1. Start point latitude,\n",
    "        2. Start point longitude,\n",
    "        3. End point latitude,\n",
    "        4. End point longitude.\n",
    "        It then calculates the spherical (arc) distance in kilometers in between the points.\"\"\"\n",
    "    \n",
    "    # Converts coordinates to spherical coordinates in radians\n",
    "    degreesToRadians = math.pi/180.0\n",
    "    \n",
    "    # Phi = 90 - latitude\n",
    "    phi1 = (90.0 - stLat) * degreesToRadians\n",
    "    phi2 = (90.0 - enLat) * degreesToRadians\n",
    "\n",
    "    # Theta = longitude\n",
    "    theta1 = stLong * degreesToRadians\n",
    "    theta2 = enLong * degreesToRadians\n",
    "    \n",
    "    # Spherical distance (arc)\n",
    "\n",
    "    cos = (math.sin(phi1) * math.sin(phi2) * math.cos(theta1 - theta2) + \n",
    "           math.cos(phi1) * math.cos(phi2))\n",
    "    arc = math.acos(cos) * 6371 #radius of the earth in km\n",
    "    return format(arc, '.3f')"
   ]
  },
  {
   "cell_type": "code",
   "execution_count": 630,
   "metadata": {
    "collapsed": false
   },
   "outputs": [
    {
     "name": "stderr",
     "output_type": "stream",
     "text": [
      "/opt/rh/anaconda/root/envs/PUI2016_Python3/lib/python3.5/site-packages/pandas/core/indexing.py:465: SettingWithCopyWarning: \n",
      "A value is trying to be set on a copy of a slice from a DataFrame.\n",
      "Try using .loc[row_indexer,col_indexer] = value instead\n",
      "\n",
      "See the caveats in the documentation: http://pandas.pydata.org/pandas-docs/stable/indexing.html#indexing-view-versus-copy\n",
      "  self.obj[item] = s\n"
     ]
    }
   ],
   "source": [
    "# Calculating the distance for every row\n",
    "\n",
    "for i in df.index:\n",
    "    df.loc[i, 'Distance'] = distanceCalc(df.loc[i, 'Start Station Latitude'],\n",
    "                                       df.loc[i, 'Start Station Longitude'],\n",
    "                                       df.loc[i, 'End Station Latitude'],\n",
    "                                       df.loc[i, 'End Station Longitude'])"
   ]
  },
  {
   "cell_type": "code",
   "execution_count": 631,
   "metadata": {
    "collapsed": false
   },
   "outputs": [
    {
     "data": {
      "text/html": [
       "<div>\n",
       "<table border=\"1\" class=\"dataframe\">\n",
       "  <thead>\n",
       "    <tr style=\"text-align: right;\">\n",
       "      <th></th>\n",
       "      <th>Start Station Latitude</th>\n",
       "      <th>Start Station Longitude</th>\n",
       "      <th>End Station Latitude</th>\n",
       "      <th>End Station Longitude</th>\n",
       "      <th>User Type</th>\n",
       "      <th>Gender</th>\n",
       "      <th>Distance</th>\n",
       "    </tr>\n",
       "  </thead>\n",
       "  <tbody>\n",
       "    <tr>\n",
       "      <th>0</th>\n",
       "      <td>40.712868</td>\n",
       "      <td>-73.956981</td>\n",
       "      <td>40.708771</td>\n",
       "      <td>-73.950953</td>\n",
       "      <td>Subscriber</td>\n",
       "      <td>1</td>\n",
       "      <td>0.682</td>\n",
       "    </tr>\n",
       "    <tr>\n",
       "      <th>1056</th>\n",
       "      <td>40.750380</td>\n",
       "      <td>-73.983390</td>\n",
       "      <td>40.730386</td>\n",
       "      <td>-74.002150</td>\n",
       "      <td>Subscriber</td>\n",
       "      <td>1</td>\n",
       "      <td>2.728</td>\n",
       "    </tr>\n",
       "    <tr>\n",
       "      <th>2107</th>\n",
       "      <td>40.749156</td>\n",
       "      <td>-73.991600</td>\n",
       "      <td>40.742354</td>\n",
       "      <td>-73.989151</td>\n",
       "      <td>Subscriber</td>\n",
       "      <td>2</td>\n",
       "      <td>0.784</td>\n",
       "    </tr>\n",
       "    <tr>\n",
       "      <th>3147</th>\n",
       "      <td>40.760301</td>\n",
       "      <td>-73.998842</td>\n",
       "      <td>40.746920</td>\n",
       "      <td>-74.004519</td>\n",
       "      <td>Subscriber</td>\n",
       "      <td>1</td>\n",
       "      <td>1.563</td>\n",
       "    </tr>\n",
       "    <tr>\n",
       "      <th>4213</th>\n",
       "      <td>40.731724</td>\n",
       "      <td>-74.006744</td>\n",
       "      <td>40.737262</td>\n",
       "      <td>-73.992390</td>\n",
       "      <td>Subscriber</td>\n",
       "      <td>1</td>\n",
       "      <td>1.357</td>\n",
       "    </tr>\n",
       "  </tbody>\n",
       "</table>\n",
       "</div>"
      ],
      "text/plain": [
       "      Start Station Latitude  Start Station Longitude  End Station Latitude  \\\n",
       "0                  40.712868               -73.956981             40.708771   \n",
       "1056               40.750380               -73.983390             40.730386   \n",
       "2107               40.749156               -73.991600             40.742354   \n",
       "3147               40.760301               -73.998842             40.746920   \n",
       "4213               40.731724               -74.006744             40.737262   \n",
       "\n",
       "      End Station Longitude   User Type  Gender Distance  \n",
       "0                -73.950953  Subscriber       1    0.682  \n",
       "1056             -74.002150  Subscriber       1    2.728  \n",
       "2107             -73.989151  Subscriber       2    0.784  \n",
       "3147             -74.004519  Subscriber       1    1.563  \n",
       "4213             -73.992390  Subscriber       1    1.357  "
      ]
     },
     "execution_count": 631,
     "metadata": {},
     "output_type": "execute_result"
    }
   ],
   "source": [
    "df.head()"
   ]
  },
  {
   "cell_type": "code",
   "execution_count": 632,
   "metadata": {
    "collapsed": true
   },
   "outputs": [],
   "source": [
    "# Dropping all the values with 0's\n",
    "\n",
    "df = df[df['Distance'] != 0.000]"
   ]
  },
  {
   "cell_type": "code",
   "execution_count": 635,
   "metadata": {
    "collapsed": false
   },
   "outputs": [],
   "source": [
    "# Grouping distance by Men and Women\n",
    "\n",
    "df['distanceM'] = df['Distance'][(df['User Type'] == 'Subscriber') & (df['Gender'] == 1)]\n",
    "\n",
    "df['distanceF'] = df['Distance'][(df['User Type'] == 'Subscriber') & (df['Gender'] == 2)]"
   ]
  },
  {
   "cell_type": "code",
   "execution_count": 637,
   "metadata": {
    "collapsed": false
   },
   "outputs": [
    {
     "data": {
      "image/png": "[encoded data removed]",
      "text/plain": [
       "<matplotlib.figure.Figure at 0x7f76cd297ac8>"
      ]
     },
     "metadata": {},
     "output_type": "display_data"
    }
   ],
   "source": [
    "fig = figsize(18, 12)\n",
    "\n",
    "bins = np.arange(5, 1000, 10)\n",
    "\n",
    "pl.hist(df['distanceM'], bins, FaceColor='black', EdgeColor='white', alpha = 0.5, label='men')\n",
    "pl.hist(df['distanceF'], bins, FaceColor='blue', EdgeColor='white', alpha = 0.5, label='women')\n",
    "pl.xlabel('Distance', fontsize=18)\n",
    "pl.ylabel('Observations', fontsize=18)\n",
    "pl.title('Distribution of distances traveled by men and women', fontsize=18)\n",
    "pl.xlim([1, 850])\n",
    "pl.legend()\n",
    "pl.show()"
   ]
  },
  {
   "cell_type": "markdown",
   "metadata": {},
   "source": [
    "### Figure 6-1: The figure shows the histograms for distances traveled by men and women plotted at the same time. As you can see, for larger distances the observations for men are far higher than that for women. However, more women travel distances lower than a kilometer than men do."
   ]
  },
  {
   "cell_type": "markdown",
   "metadata": {},
   "source": [
    "## 7. Statistical Test"
   ]
  },
  {
   "cell_type": "markdown",
   "metadata": {},
   "source": [
    "To test the Null Hypothesis, we will conduct a Student's t-test to compare the means of the groups."
   ]
  },
  {
   "cell_type": "code",
   "execution_count": 643,
   "metadata": {
    "collapsed": false
   },
   "outputs": [
    {
     "data": {
      "text/html": [
       "<div>\n",
       "<table border=\"1\" class=\"dataframe\">\n",
       "  <thead>\n",
       "    <tr style=\"text-align: right;\">\n",
       "      <th></th>\n",
       "      <th>Start Station Latitude</th>\n",
       "      <th>Start Station Longitude</th>\n",
       "      <th>End Station Latitude</th>\n",
       "      <th>End Station Longitude</th>\n",
       "      <th>User Type</th>\n",
       "      <th>Gender</th>\n",
       "      <th>Distance</th>\n",
       "      <th>distanceM</th>\n",
       "      <th>distanceF</th>\n",
       "    </tr>\n",
       "  </thead>\n",
       "  <tbody>\n",
       "    <tr>\n",
       "      <th>0</th>\n",
       "      <td>40.712868</td>\n",
       "      <td>-73.956981</td>\n",
       "      <td>40.708771</td>\n",
       "      <td>-73.950953</td>\n",
       "      <td>Subscriber</td>\n",
       "      <td>1</td>\n",
       "      <td>0.682</td>\n",
       "      <td>0.682</td>\n",
       "      <td>NaN</td>\n",
       "    </tr>\n",
       "    <tr>\n",
       "      <th>1056</th>\n",
       "      <td>40.750380</td>\n",
       "      <td>-73.983390</td>\n",
       "      <td>40.730386</td>\n",
       "      <td>-74.002150</td>\n",
       "      <td>Subscriber</td>\n",
       "      <td>1</td>\n",
       "      <td>2.728</td>\n",
       "      <td>2.728</td>\n",
       "      <td>NaN</td>\n",
       "    </tr>\n",
       "    <tr>\n",
       "      <th>2107</th>\n",
       "      <td>40.749156</td>\n",
       "      <td>-73.991600</td>\n",
       "      <td>40.742354</td>\n",
       "      <td>-73.989151</td>\n",
       "      <td>Subscriber</td>\n",
       "      <td>2</td>\n",
       "      <td>0.784</td>\n",
       "      <td>NaN</td>\n",
       "      <td>0.784</td>\n",
       "    </tr>\n",
       "    <tr>\n",
       "      <th>3147</th>\n",
       "      <td>40.760301</td>\n",
       "      <td>-73.998842</td>\n",
       "      <td>40.746920</td>\n",
       "      <td>-74.004519</td>\n",
       "      <td>Subscriber</td>\n",
       "      <td>1</td>\n",
       "      <td>1.563</td>\n",
       "      <td>1.563</td>\n",
       "      <td>NaN</td>\n",
       "    </tr>\n",
       "    <tr>\n",
       "      <th>4213</th>\n",
       "      <td>40.731724</td>\n",
       "      <td>-74.006744</td>\n",
       "      <td>40.737262</td>\n",
       "      <td>-73.992390</td>\n",
       "      <td>Subscriber</td>\n",
       "      <td>1</td>\n",
       "      <td>1.357</td>\n",
       "      <td>1.357</td>\n",
       "      <td>NaN</td>\n",
       "    </tr>\n",
       "  </tbody>\n",
       "</table>\n",
       "</div>"
      ],
      "text/plain": [
       "      Start Station Latitude  Start Station Longitude  End Station Latitude  \\\n",
       "0                  40.712868               -73.956981             40.708771   \n",
       "1056               40.750380               -73.983390             40.730386   \n",
       "2107               40.749156               -73.991600             40.742354   \n",
       "3147               40.760301               -73.998842             40.746920   \n",
       "4213               40.731724               -74.006744             40.737262   \n",
       "\n",
       "      End Station Longitude   User Type  Gender Distance  distanceM  distanceF  \n",
       "0                -73.950953  Subscriber       1    0.682      0.682        NaN  \n",
       "1056             -74.002150  Subscriber       1    2.728      2.728        NaN  \n",
       "2107             -73.989151  Subscriber       2    0.784        NaN      0.784  \n",
       "3147             -74.004519  Subscriber       1    1.563      1.563        NaN  \n",
       "4213             -73.992390  Subscriber       1    1.357      1.357        NaN  "
      ]
     },
     "execution_count": 643,
     "metadata": {},
     "output_type": "execute_result"
    }
   ],
   "source": [
    "df.head()"
   ]
  },
  {
   "cell_type": "code",
   "execution_count": 644,
   "metadata": {
    "collapsed": true
   },
   "outputs": [],
   "source": [
    "df1 = df['distanceM']"
   ]
  },
  {
   "cell_type": "code",
   "execution_count": 646,
   "metadata": {
    "collapsed": false
   },
   "outputs": [],
   "source": [
    "df2 = df['distanceF']"
   ]
  },
  {
   "cell_type": "code",
   "execution_count": 647,
   "metadata": {
    "collapsed": true
   },
   "outputs": [],
   "source": [
    "df1 = df1.dropna(axis=0, how='any')"
   ]
  },
  {
   "cell_type": "code",
   "execution_count": 649,
   "metadata": {
    "collapsed": false
   },
   "outputs": [],
   "source": [
    "df2 = df2.dropna(axis=0, how='any')"
   ]
  },
  {
   "cell_type": "code",
   "execution_count": 651,
   "metadata": {
    "collapsed": false
   },
   "outputs": [
    {
     "data": {
      "text/plain": [
       "Ttest_indResult(statistic=-1.5645170379043327, pvalue=0.11792579805912497)"
      ]
     },
     "execution_count": 651,
     "metadata": {},
     "output_type": "execute_result"
    }
   ],
   "source": [
    "# Conducting the t-test\n",
    "\n",
    "st.ttest_ind(df1, df2, axis=0, equal_var=True)"
   ]
  },
  {
   "cell_type": "markdown",
   "metadata": {},
   "source": [
    "P-value is 0.118 > alpha = 0.05"
   ]
  },
  {
   "cell_type": "markdown",
   "metadata": {},
   "source": [
    "## 8. Results"
   ]
  },
  {
   "cell_type": "markdown",
   "metadata": {},
   "source": [
    "** Null Hypothesis: The average trip distance cycled by women in the month of October, 2016 is the same or less than that of men.**"
   ]
  },
  {
   "cell_type": "markdown",
   "metadata": {},
   "source": [
    "Student's t-test resulted in a P-value of 0.118, which is more than the significance level alpha, initially set to be 0.05. Therefore, we can not reject the Null Hypothesis, and therefore the Null holds: within the month of October, 2016 women do cycle same or less than men."
   ]
  }
 ],
 "metadata": {
  "kernelspec": {
   "display_name": "PUI2016_Python3",
   "language": "python",
   "name": "pui2016_python3"
  },
  "language_info": {
   "codemirror_mode": {
    "name": "ipython",
    "version": 3
   },
   "file_extension": ".py",
   "mimetype": "text/x-python",
   "name": "python",
   "nbconvert_exporter": "python",
   "pygments_lexer": "ipython3",
   "version": "3.5.4"
  }
 },
 "nbformat": 4,
 "nbformat_minor": 1
}
