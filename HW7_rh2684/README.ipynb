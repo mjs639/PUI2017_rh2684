{
 "cells": [
  {
   "cell_type": "markdown",
   "metadata": {},
   "source": [
    "The figure below shows the prediction of NYC daily water consumption for the period of 1979 to 2016. The data has been obtained from the NYC Open Data portal, and is accessible <a href='https://data.cityofnewyork.us/Environment/Water-Consumption-In-The-New-York-City/ia2d-e54m'>here</a>."
   ]
  },
  {
   "cell_type": "code",
   "execution_count": null,
   "metadata": {
    "collapsed": true
   },
   "outputs": [],
   "source": []
  },
  {
   "cell_type": "markdown",
   "metadata": {},
   "source": [
    "<p style=\"background-color:#f9f9f9;\n",
    "          text-align:justify; \n",
    "          padding:10px;\n",
    "          font-family:monospace;\">\n",
    "<b>Figure 2</b>: The figure shows the prediction of NYC daily water consumption in millions of gallons based on the historical daily water consumption data for the period of 1979 to 2016. It is interesting that despite the total population increase of 17,3% for the mentioned period the daily water consumption was decreased by 34%! The regression line (R-squared = 0.88) fitted to the data predicts the trend of further consumption reduction.</p>"
   ]
  }
 ],
 "metadata": {
  "kernelspec": {
   "display_name": "Python 3",
   "language": "python",
   "name": "python3"
  },
  "language_info": {
   "codemirror_mode": {
    "name": "ipython",
    "version": 3
   },
   "file_extension": ".py",
   "mimetype": "text/x-python",
   "name": "python",
   "nbconvert_exporter": "python",
   "pygments_lexer": "ipython3",
   "version": "3.6.1"
  }
 },
 "nbformat": 4,
 "nbformat_minor": 2
}
